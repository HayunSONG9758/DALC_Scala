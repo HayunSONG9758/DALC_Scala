{
  "nbformat": 4,
  "nbformat_minor": 0,
  "metadata": {
    "colab": {
      "name": "1-4장.ipynb",
      "provenance": [],
      "authorship_tag": "ABX9TyNRwn46PxRY1ttUDCKdKX6y",
      "include_colab_link": true
    },
    "kernelspec": {
      "name": "python3",
      "display_name": "Python 3"
    }
  },
  "cells": [
    {
      "cell_type": "markdown",
      "metadata": {
        "id": "view-in-github",
        "colab_type": "text"
      },
      "source": [
        "<a href=\"https://colab.research.google.com/github/HayunSONG9758/DALC_Scala/blob/main/1_4%EC%9E%A5.ipynb\" target=\"_parent\"><img src=\"https://colab.research.google.com/assets/colab-badge.svg\" alt=\"Open In Colab\"/></a>"
      ]
    },
    {
      "cell_type": "markdown",
      "metadata": {
        "id": "l-0qr3HbpTWX"
      },
      "source": [
        "p.53 수도(pseudo)코드 예제"
      ]
    },
    {
      "cell_type": "code",
      "metadata": {
        "colab": {
          "base_uri": "https://localhost:8080/",
          "height": 139
        },
        "id": "jQZTNjzjop2N",
        "outputId": "0425dfe0-105c-43d1-c9f4-52cf029d291f"
      },
      "source": [
        "for i = 1 to 100\r\n",
        "    print_number = True\r\n",
        "\r\n",
        "    if i is 3으로 나눌 수 있다면\r\n",
        "        print \"Fizz\"\r\n",
        "        print_number = False\r\n",
        "\r\n",
        "    if i is 5로 나눌 수 있다면\r\n",
        "        print \"Buzz\"\r\n",
        "        print_number = False\r\n",
        "\r\n",
        "    if print_number = True\r\n",
        "        print 빈줄"
      ],
      "execution_count": null,
      "outputs": [
        {
          "output_type": "error",
          "ename": "SyntaxError",
          "evalue": "ignored",
          "traceback": [
            "\u001b[0;36m  File \u001b[0;32m\"<ipython-input-1-ec690124350f>\"\u001b[0;36m, line \u001b[0;32m2\u001b[0m\n\u001b[0;31m    for i = 1 to 100\u001b[0m\n\u001b[0m          ^\u001b[0m\n\u001b[0;31mSyntaxError\u001b[0m\u001b[0;31m:\u001b[0m invalid syntax\n"
          ]
        }
      ]
    },
    {
      "cell_type": "markdown",
      "metadata": {
        "id": "UtrQ5w2PpeoU"
      },
      "source": [
        "p.56 루프 : 1부터 10까지의 합을 구하는 간단한 루프구조"
      ]
    },
    {
      "cell_type": "code",
      "metadata": {
        "colab": {
          "base_uri": "https://localhost:8080/"
        },
        "id": "h7NXMmbKpyDN",
        "outputId": "9164ac98-1816-4ed4-f330-fd92de4243e3"
      },
      "source": [
        "#예시1\r\n",
        "#변수명이 예약어sum과 같기 때문에 sum2,sum3,sum4로 함\r\n",
        "sum2=0\r\n",
        "for i in range(1,10+1):\r\n",
        "  sum2 += i\r\n",
        "print(sum2)"
      ],
      "execution_count": null,
      "outputs": [
        {
          "output_type": "stream",
          "text": [
            "55\n"
          ],
          "name": "stdout"
        }
      ]
    },
    {
      "cell_type": "code",
      "metadata": {
        "colab": {
          "base_uri": "https://localhost:8080/"
        },
        "id": "dV4os8evqHvt",
        "outputId": "3fe4a776-70c8-48e3-fc9f-c2b965aa1ab5"
      },
      "source": [
        "#예시2\r\n",
        "sum3 = sum(i for i in range(1, 10+1))\r\n",
        "print(sum3)"
      ],
      "execution_count": null,
      "outputs": [
        {
          "output_type": "stream",
          "text": [
            "55\n"
          ],
          "name": "stdout"
        }
      ]
    },
    {
      "cell_type": "code",
      "metadata": {
        "colab": {
          "base_uri": "https://localhost:8080/"
        },
        "id": "72PfdeyOqVlU",
        "outputId": "d4feed74-0ab0-43e7-ad67-f05717bb39cc"
      },
      "source": [
        "#예시3\r\n",
        "sum4 = sum(range(1,10+1))\r\n",
        "print(sum4)"
      ],
      "execution_count": null,
      "outputs": [
        {
          "output_type": "stream",
          "text": [
            "55\n"
          ],
          "name": "stdout"
        }
      ]
    },
    {
      "cell_type": "markdown",
      "metadata": {
        "id": "MPy7TU5RqejI"
      },
      "source": [
        "p.58 제네릭 프로그래밍"
      ]
    },
    {
      "cell_type": "code",
      "metadata": {
        "colab": {
          "base_uri": "https://localhost:8080/"
        },
        "id": "TdbQfcZKqhM3",
        "outputId": "bf998785-28c1-4b06-b9b3-b25494083188"
      },
      "source": [
        "def are_equal(a,b):\r\n",
        "  return a == b\r\n",
        "\r\n",
        "are_equal(10,10.0)"
      ],
      "execution_count": null,
      "outputs": [
        {
          "output_type": "execute_result",
          "data": {
            "text/plain": [
              "True"
            ]
          },
          "metadata": {
            "tags": []
          },
          "execution_count": 8
        }
      ]
    },
    {
      "cell_type": "code",
      "metadata": {
        "colab": {
          "base_uri": "https://localhost:8080/"
        },
        "id": "1vZdjgHTqsMT",
        "outputId": "96ce5d45-6052-4ad9-aab7-fa1d03273921"
      },
      "source": [
        "from typing import TypeVar\r\n",
        "\r\n",
        "T=TypeVar('T')\r\n",
        "U=TypeVar('U')\r\n",
        "\r\n",
        "def are_equal(a:T, b:U) -> bool:\r\n",
        "  return a==b\r\n",
        "\r\n",
        "are_equal(10,10.0)"
      ],
      "execution_count": null,
      "outputs": [
        {
          "output_type": "execute_result",
          "data": {
            "text/plain": [
              "True"
            ]
          },
          "metadata": {
            "tags": []
          },
          "execution_count": 9
        }
      ]
    },
    {
      "cell_type": "markdown",
      "metadata": {
        "id": "nKasbAyFiOo4"
      },
      "source": [
        "p.60 배열반복"
      ]
    },
    {
      "cell_type": "code",
      "metadata": {
        "colab": {
          "base_uri": "https://localhost:8080/"
        },
        "id": "6I5niiWoiRZc",
        "outputId": "940c5041-58de-4ffb-fc2f-55b62e1f8870"
      },
      "source": [
        "foo = ['A', 'B', \"C\"]\r\n",
        "for f in foo:\r\n",
        "  print(f)"
      ],
      "execution_count": 1,
      "outputs": [
        {
          "output_type": "stream",
          "text": [
            "A\n",
            "B\n",
            "C\n"
          ],
          "name": "stdout"
        }
      ]
    },
    {
      "cell_type": "markdown",
      "metadata": {
        "id": "Lb7Kql8DidVg"
      },
      "source": [
        "p.61~62 구조체"
      ]
    },
    {
      "cell_type": "code",
      "metadata": {
        "id": "Tu6aD0R2igsd"
      },
      "source": [
        "from collections import namedtuple\r\n",
        "MyStruct = namedtuple(\"MyStruct\", \"field1 field2 field3\")\r\n",
        "m = MyStruct(\"foo\", \"bar\", \"baz\")"
      ],
      "execution_count": null,
      "outputs": []
    },
    {
      "cell_type": "code",
      "metadata": {
        "id": "Sjthk1LkixW8"
      },
      "source": [
        "from dataclass import dataclass\r\n",
        "\r\n",
        "@dataclass\r\n",
        "class Product:\r\n",
        "  weight: int = None\r\n",
        "  price: float = None\r\n",
        "\r\n",
        "apple = Product()\r\n",
        "apple.price = 10\r\n",
        "\r\n",
        "#@dataclass 데코레이션 : python 3.7기준 사용 가능함"
      ],
      "execution_count": null,
      "outputs": []
    },
    {
      "cell_type": "markdown",
      "metadata": {
        "id": "nBE3wGawjNj6"
      },
      "source": [
        "p.64~65 클래스"
      ]
    },
    {
      "cell_type": "code",
      "metadata": {
        "colab": {
          "base_uri": "https://localhost:8080/"
        },
        "id": "ntLTqhjajQwC",
        "outputId": "a596a510-beeb-4ab7-fca8-9f5291227962"
      },
      "source": [
        "from dataclasses import dataclass\r\n",
        "\r\n",
        "@dataclass\r\n",
        "class Rectangle:\r\n",
        "    width: int\r\n",
        "    height: int\r\n",
        "\r\n",
        "    def area(self):\r\n",
        "        return self.width * self.height\r\n",
        "\r\n",
        "rect = Rectangle(3,4)\r\n",
        "print(rect.area())"
      ],
      "execution_count": 2,
      "outputs": [
        {
          "output_type": "stream",
          "text": [
            "12\n"
          ],
          "name": "stdout"
        }
      ]
    },
    {
      "cell_type": "markdown",
      "metadata": {
        "id": "hW6cvGM_jX7c"
      },
      "source": [
        "p.76~77 인덴트"
      ]
    },
    {
      "cell_type": "code",
      "metadata": {
        "id": "YUFB5gH5jeT-"
      },
      "source": [
        "#공백 4칸 원칙\r\n",
        "foo = long_function_name(var_one, var_two,\r\n",
        "                         var_three, var_four)"
      ],
      "execution_count": null,
      "outputs": []
    },
    {
      "cell_type": "code",
      "metadata": {
        "id": "LupfO9wSjjn0"
      },
      "source": [
        "def long_function_name(\r\n",
        "        var_one, var_two, var_three, \r\n",
        "        var_four):\r\n",
        "    print(var_one)"
      ],
      "execution_count": null,
      "outputs": []
    },
    {
      "cell_type": "code",
      "metadata": {
        "id": "cSZqYpOOjmR8"
      },
      "source": [
        "foo = long_function_name(\r\n",
        "    var_one, var_two,\r\n",
        "    var_three, var_four)"
      ],
      "execution_count": null,
      "outputs": []
    },
    {
      "cell_type": "markdown",
      "metadata": {
        "id": "DQZ39KY_jtmc"
      },
      "source": [
        "p.79 타입힌트"
      ]
    },
    {
      "cell_type": "code",
      "metadata": {
        "id": "i-s_sVAbjwgV"
      },
      "source": [
        ">>>> a: str = 1\r\n",
        ">>>> type(a)\r\n",
        "<class 'int'>"
      ],
      "execution_count": null,
      "outputs": []
    },
    {
      "cell_type": "code",
      "metadata": {
        "id": "4rTevJVbj6Dd"
      },
      "source": [
        "$pip install mypy\r\n",
        "#타입 힌트에 오류가 없는지 자동으로 확인할 수 있다"
      ],
      "execution_count": null,
      "outputs": []
    },
    {
      "cell_type": "markdown",
      "metadata": {
        "id": "9SFnqyLZkCNv"
      },
      "source": [
        "p.80~81 리스트 컴프리헨션"
      ]
    },
    {
      "cell_type": "code",
      "metadata": {
        "colab": {
          "base_uri": "https://localhost:8080/"
        },
        "id": "oA06vOZqkGwo",
        "outputId": "926ccc33-d5a2-4f8c-92c4-e49903fc7fe6"
      },
      "source": [
        "list(map(lambda x : x + 10, [1, 2, 3]))"
      ],
      "execution_count": 4,
      "outputs": [
        {
          "output_type": "execute_result",
          "data": {
            "text/plain": [
              "[11, 12, 13]"
            ]
          },
          "metadata": {
            "tags": []
          },
          "execution_count": 4
        }
      ]
    },
    {
      "cell_type": "code",
      "metadata": {
        "colab": {
          "base_uri": "https://localhost:8080/"
        },
        "id": "rdvaxBqBkOhP",
        "outputId": "21dacfc1-3db8-4bdb-88ec-6f643c1ca1cd"
      },
      "source": [
        "[ n * 2 for n in range(1, 10+1) if n % 2 == 1]"
      ],
      "execution_count": 5,
      "outputs": [
        {
          "output_type": "execute_result",
          "data": {
            "text/plain": [
              "[2, 6, 10, 14, 18]"
            ]
          },
          "metadata": {
            "tags": []
          },
          "execution_count": 5
        }
      ]
    },
    {
      "cell_type": "code",
      "metadata": {
        "id": "8gbA8othkXli"
      },
      "source": [
        "a = {}\r\n",
        "for key, value in original.items():\r\n",
        "  a[key] = value\r\n",
        "\r\n",
        "a = {key: value for key, value in original.items()}\r\n",
        "# 리스트, 딕셔너리 등 모두 가능함"
      ],
      "execution_count": null,
      "outputs": []
    },
    {
      "cell_type": "markdown",
      "metadata": {
        "id": "I1vFffYJJcqJ"
      },
      "source": [
        "p.82~83 제너레이터"
      ]
    },
    {
      "cell_type": "code",
      "metadata": {
        "colab": {
          "base_uri": "https://localhost:8080/"
        },
        "id": "kCv3-OyrJizU",
        "outputId": "cec595df-a715-4cde-d883-ea760ac81ad8"
      },
      "source": [
        "def get_natural_number():\r\n",
        "    n = 0\r\n",
        "    while True:\r\n",
        "        n += 1\r\n",
        "        yield n\r\n",
        "\r\n",
        "get_natural_number()"
      ],
      "execution_count": 6,
      "outputs": [
        {
          "output_type": "execute_result",
          "data": {
            "text/plain": [
              "<generator object get_natural_number at 0x7f225f1e5050>"
            ]
          },
          "metadata": {
            "tags": []
          },
          "execution_count": 6
        }
      ]
    },
    {
      "cell_type": "code",
      "metadata": {
        "colab": {
          "base_uri": "https://localhost:8080/"
        },
        "id": "W7ro2BgaJpvQ",
        "outputId": "85083fea-0ddf-4572-e91f-142b0cf27c50"
      },
      "source": [
        "g = get_natural_number()\r\n",
        "for _ in range(0,100):\r\n",
        "    print(next(g))\r\n",
        "\r\n",
        "#100번 동안 next()를 수행하면 100개의 값을 생성한다"
      ],
      "execution_count": 7,
      "outputs": [
        {
          "output_type": "stream",
          "text": [
            "1\n",
            "2\n",
            "3\n",
            "4\n",
            "5\n",
            "6\n",
            "7\n",
            "8\n",
            "9\n",
            "10\n",
            "11\n",
            "12\n",
            "13\n",
            "14\n",
            "15\n",
            "16\n",
            "17\n",
            "18\n",
            "19\n",
            "20\n",
            "21\n",
            "22\n",
            "23\n",
            "24\n",
            "25\n",
            "26\n",
            "27\n",
            "28\n",
            "29\n",
            "30\n",
            "31\n",
            "32\n",
            "33\n",
            "34\n",
            "35\n",
            "36\n",
            "37\n",
            "38\n",
            "39\n",
            "40\n",
            "41\n",
            "42\n",
            "43\n",
            "44\n",
            "45\n",
            "46\n",
            "47\n",
            "48\n",
            "49\n",
            "50\n",
            "51\n",
            "52\n",
            "53\n",
            "54\n",
            "55\n",
            "56\n",
            "57\n",
            "58\n",
            "59\n",
            "60\n",
            "61\n",
            "62\n",
            "63\n",
            "64\n",
            "65\n",
            "66\n",
            "67\n",
            "68\n",
            "69\n",
            "70\n",
            "71\n",
            "72\n",
            "73\n",
            "74\n",
            "75\n",
            "76\n",
            "77\n",
            "78\n",
            "79\n",
            "80\n",
            "81\n",
            "82\n",
            "83\n",
            "84\n",
            "85\n",
            "86\n",
            "87\n",
            "88\n",
            "89\n",
            "90\n",
            "91\n",
            "92\n",
            "93\n",
            "94\n",
            "95\n",
            "96\n",
            "97\n",
            "98\n",
            "99\n",
            "100\n"
          ],
          "name": "stdout"
        }
      ]
    },
    {
      "cell_type": "code",
      "metadata": {
        "colab": {
          "base_uri": "https://localhost:8080/"
        },
        "id": "bpAHDBerJ4aK",
        "outputId": "99dc7636-1f44-4be5-9f05-3e1610503f8b"
      },
      "source": [
        "def generator():\r\n",
        "   yield 1\r\n",
        "   yield 'string'\r\n",
        "   yield True\r\n",
        "g = generator()\r\n",
        "g"
      ],
      "execution_count": 11,
      "outputs": [
        {
          "output_type": "execute_result",
          "data": {
            "text/plain": [
              "<generator object generator at 0x7f225f1857d0>"
            ]
          },
          "metadata": {
            "tags": []
          },
          "execution_count": 11
        }
      ]
    },
    {
      "cell_type": "code",
      "metadata": {
        "colab": {
          "base_uri": "https://localhost:8080/"
        },
        "id": "FKquhXuaKZua",
        "outputId": "b0203a8f-6f15-4147-86b0-92e261621ad6"
      },
      "source": [
        "next(g)"
      ],
      "execution_count": 12,
      "outputs": [
        {
          "output_type": "execute_result",
          "data": {
            "text/plain": [
              "1"
            ]
          },
          "metadata": {
            "tags": []
          },
          "execution_count": 12
        }
      ]
    },
    {
      "cell_type": "code",
      "metadata": {
        "colab": {
          "base_uri": "https://localhost:8080/",
          "height": 36
        },
        "id": "EaEzCNjuKZ09",
        "outputId": "b952b288-14e1-4be9-8467-6e2b457ec94d"
      },
      "source": [
        "next(g)"
      ],
      "execution_count": 14,
      "outputs": [
        {
          "output_type": "execute_result",
          "data": {
            "application/vnd.google.colaboratory.intrinsic+json": {
              "type": "string"
            },
            "text/plain": [
              "'string'"
            ]
          },
          "metadata": {
            "tags": []
          },
          "execution_count": 14
        }
      ]
    },
    {
      "cell_type": "code",
      "metadata": {
        "colab": {
          "base_uri": "https://localhost:8080/"
        },
        "id": "knf9haIKKZ4B",
        "outputId": "74601e0c-d0b3-4204-f907-5816244a589a"
      },
      "source": [
        "next(g)"
      ],
      "execution_count": 15,
      "outputs": [
        {
          "output_type": "execute_result",
          "data": {
            "text/plain": [
              "True"
            ]
          },
          "metadata": {
            "tags": []
          },
          "execution_count": 15
        }
      ]
    },
    {
      "cell_type": "markdown",
      "metadata": {
        "id": "BmYyaqbmKmyE"
      },
      "source": [
        "p.83~84 range"
      ]
    },
    {
      "cell_type": "code",
      "metadata": {
        "colab": {
          "base_uri": "https://localhost:8080/"
        },
        "id": "HUo-vgIpKp1L",
        "outputId": "c389aa31-e8a2-4cd4-e307-d64de825bcc3"
      },
      "source": [
        "list(range(5))"
      ],
      "execution_count": 17,
      "outputs": [
        {
          "output_type": "execute_result",
          "data": {
            "text/plain": [
              "[0, 1, 2, 3, 4]"
            ]
          },
          "metadata": {
            "tags": []
          },
          "execution_count": 17
        }
      ]
    },
    {
      "cell_type": "code",
      "metadata": {
        "colab": {
          "base_uri": "https://localhost:8080/"
        },
        "id": "Bp3vGZtePhVp",
        "outputId": "b591b0a9-d4b5-4f93-a875-4feef0afcdce"
      },
      "source": [
        "range(0,5)"
      ],
      "execution_count": 19,
      "outputs": [
        {
          "output_type": "execute_result",
          "data": {
            "text/plain": [
              "range(0, 5)"
            ]
          },
          "metadata": {
            "tags": []
          },
          "execution_count": 19
        }
      ]
    },
    {
      "cell_type": "code",
      "metadata": {
        "colab": {
          "base_uri": "https://localhost:8080/"
        },
        "id": "SGZt6dc8Phe_",
        "outputId": "8a65e65b-7a37-428e-cdc0-4bd790269cfc"
      },
      "source": [
        "type(range(5))"
      ],
      "execution_count": 20,
      "outputs": [
        {
          "output_type": "execute_result",
          "data": {
            "text/plain": [
              "range"
            ]
          },
          "metadata": {
            "tags": []
          },
          "execution_count": 20
        }
      ]
    },
    {
      "cell_type": "code",
      "metadata": {
        "colab": {
          "base_uri": "https://localhost:8080/"
        },
        "id": "15fV5PDnPhkA",
        "outputId": "157d20d1-19b7-43de-c756-c5cbb14c99b4"
      },
      "source": [
        "for i in range(5):\r\n",
        "    print(i, end=\"\")"
      ],
      "execution_count": 22,
      "outputs": [
        {
          "output_type": "stream",
          "text": [
            "01234"
          ],
          "name": "stdout"
        }
      ]
    },
    {
      "cell_type": "code",
      "metadata": {
        "id": "7AB3KIoxPhm9"
      },
      "source": [
        "a = [n for n in range(1000000)] #이미 생성된 값이 담겨 있는 것\r\n",
        "b = range(1000000) #생성해야 한다는 조건만 존재"
      ],
      "execution_count": 24,
      "outputs": []
    },
    {
      "cell_type": "code",
      "metadata": {
        "colab": {
          "base_uri": "https://localhost:8080/"
        },
        "id": "bkKD7Na6Phps",
        "outputId": "f208bb55-4ddf-4555-c85c-a972bfa93172"
      },
      "source": [
        "len(a)"
      ],
      "execution_count": 25,
      "outputs": [
        {
          "output_type": "execute_result",
          "data": {
            "text/plain": [
              "1000000"
            ]
          },
          "metadata": {
            "tags": []
          },
          "execution_count": 25
        }
      ]
    },
    {
      "cell_type": "code",
      "metadata": {
        "colab": {
          "base_uri": "https://localhost:8080/"
        },
        "id": "GyUV67oWQtTW",
        "outputId": "9da4ca1f-8308-4c47-aa0f-9f393974a0a1"
      },
      "source": [
        "len(b)"
      ],
      "execution_count": 26,
      "outputs": [
        {
          "output_type": "execute_result",
          "data": {
            "text/plain": [
              "1000000"
            ]
          },
          "metadata": {
            "tags": []
          },
          "execution_count": 26
        }
      ]
    },
    {
      "cell_type": "code",
      "metadata": {
        "colab": {
          "base_uri": "https://localhost:8080/"
        },
        "id": "cZwZ11ufQtga",
        "outputId": "64fa1807-fbb5-464d-be58-8e8727e778bf"
      },
      "source": [
        "len(a)==len(b)"
      ],
      "execution_count": 27,
      "outputs": [
        {
          "output_type": "execute_result",
          "data": {
            "text/plain": [
              "True"
            ]
          },
          "metadata": {
            "tags": []
          },
          "execution_count": 27
        }
      ]
    },
    {
      "cell_type": "code",
      "metadata": {
        "colab": {
          "base_uri": "https://localhost:8080/"
        },
        "id": "e1dOEqsqQti1",
        "outputId": "143bfc21-032c-4b31-ba82-ceb4b3fd798e"
      },
      "source": [
        "b"
      ],
      "execution_count": 28,
      "outputs": [
        {
          "output_type": "execute_result",
          "data": {
            "text/plain": [
              "range(0, 1000000)"
            ]
          },
          "metadata": {
            "tags": []
          },
          "execution_count": 28
        }
      ]
    },
    {
      "cell_type": "code",
      "metadata": {
        "colab": {
          "base_uri": "https://localhost:8080/"
        },
        "id": "f6Ie0D4GQtlX",
        "outputId": "df471a09-5e04-4791-e0ac-84fb0362caae"
      },
      "source": [
        "type(b)"
      ],
      "execution_count": 29,
      "outputs": [
        {
          "output_type": "execute_result",
          "data": {
            "text/plain": [
              "range"
            ]
          },
          "metadata": {
            "tags": []
          },
          "execution_count": 29
        }
      ]
    },
    {
      "cell_type": "code",
      "metadata": {
        "id": "7l2JIsPUQ3b6"
      },
      "source": [
        "sys.getsizeof(a)"
      ],
      "execution_count": null,
      "outputs": []
    },
    {
      "cell_type": "code",
      "metadata": {
        "id": "gzRkQ54-Q3f-"
      },
      "source": [
        "sys.getsizeof(b)"
      ],
      "execution_count": null,
      "outputs": []
    },
    {
      "cell_type": "code",
      "metadata": {
        "colab": {
          "base_uri": "https://localhost:8080/"
        },
        "id": "sI_XhnXqQ381",
        "outputId": "dd740e0b-8431-45fa-c0de-8e8031f9a449"
      },
      "source": [
        "b[999]"
      ],
      "execution_count": 31,
      "outputs": [
        {
          "output_type": "execute_result",
          "data": {
            "text/plain": [
              "999"
            ]
          },
          "metadata": {
            "tags": []
          },
          "execution_count": 31
        }
      ]
    },
    {
      "cell_type": "markdown",
      "metadata": {
        "id": "UOcHUT-BRFUp"
      },
      "source": [
        "p.85 enumerate"
      ]
    },
    {
      "cell_type": "code",
      "metadata": {
        "colab": {
          "base_uri": "https://localhost:8080/"
        },
        "id": "GMQExgfKRHcD",
        "outputId": "f3e905dd-82a8-4fa3-c027-bd804c8c2240"
      },
      "source": [
        "a = [1,2,3,2,45,2,5]\r\n",
        "a"
      ],
      "execution_count": 32,
      "outputs": [
        {
          "output_type": "execute_result",
          "data": {
            "text/plain": [
              "[1, 2, 3, 2, 45, 2, 5]"
            ]
          },
          "metadata": {
            "tags": []
          },
          "execution_count": 32
        }
      ]
    },
    {
      "cell_type": "code",
      "metadata": {
        "colab": {
          "base_uri": "https://localhost:8080/"
        },
        "id": "PKhR0DPyRHek",
        "outputId": "efb2b662-2982-4217-b31e-f5754c1c78e2"
      },
      "source": [
        "enumerate(a)\r\n",
        "#순서가 있는 자료형을 인덱스를 포함한 enumerate 객체로 리턴한다"
      ],
      "execution_count": 33,
      "outputs": [
        {
          "output_type": "execute_result",
          "data": {
            "text/plain": [
              "<enumerate at 0x7f225f223a50>"
            ]
          },
          "metadata": {
            "tags": []
          },
          "execution_count": 33
        }
      ]
    },
    {
      "cell_type": "code",
      "metadata": {
        "colab": {
          "base_uri": "https://localhost:8080/"
        },
        "id": "VGtghQksRHh3",
        "outputId": "535b3fb6-8456-4c51-a256-7e2403c24115"
      },
      "source": [
        "list(enumerate(a))"
      ],
      "execution_count": 35,
      "outputs": [
        {
          "output_type": "execute_result",
          "data": {
            "text/plain": [
              "[(0, 1), (1, 2), (2, 3), (3, 2), (4, 45), (5, 2), (6, 5)]"
            ]
          },
          "metadata": {
            "tags": []
          },
          "execution_count": 35
        }
      ]
    },
    {
      "cell_type": "code",
      "metadata": {
        "colab": {
          "base_uri": "https://localhost:8080/"
        },
        "id": "r7IScL5pRHxi",
        "outputId": "515a7de9-53d9-4bc0-bc6b-f06add29ed8c"
      },
      "source": [
        "for i in range(len(a)):\r\n",
        "    print(i,a[i])"
      ],
      "execution_count": 39,
      "outputs": [
        {
          "output_type": "stream",
          "text": [
            "0 1\n",
            "1 2\n",
            "2 3\n",
            "3 2\n",
            "4 45\n",
            "5 2\n",
            "6 5\n"
          ],
          "name": "stdout"
        }
      ]
    },
    {
      "cell_type": "code",
      "metadata": {
        "colab": {
          "base_uri": "https://localhost:8080/"
        },
        "id": "bELcUt_XRai1",
        "outputId": "217e8ca4-f545-4834-99cb-b1869c6daf1c"
      },
      "source": [
        "i = 0\r\n",
        "for v in a:\r\n",
        "    print(i,v)\r\n",
        "    i += 1"
      ],
      "execution_count": 40,
      "outputs": [
        {
          "output_type": "stream",
          "text": [
            "0 1\n",
            "1 2\n",
            "2 3\n",
            "3 2\n",
            "4 45\n",
            "5 2\n",
            "6 5\n"
          ],
          "name": "stdout"
        }
      ]
    },
    {
      "cell_type": "code",
      "metadata": {
        "colab": {
          "base_uri": "https://localhost:8080/"
        },
        "id": "oQB7fG1dRatM",
        "outputId": "754fc8a9-7734-4894-fab4-b73851eb440b"
      },
      "source": [
        "for i, v in enumerate(a):\r\n",
        "    print(i,v)"
      ],
      "execution_count": 41,
      "outputs": [
        {
          "output_type": "stream",
          "text": [
            "0 1\n",
            "1 2\n",
            "2 3\n",
            "3 2\n",
            "4 45\n",
            "5 2\n",
            "6 5\n"
          ],
          "name": "stdout"
        }
      ]
    },
    {
      "cell_type": "markdown",
      "metadata": {
        "id": "-Ih32FD_RzQD"
      },
      "source": [
        "p.86~87 나눗셈 연산자"
      ]
    },
    {
      "cell_type": "code",
      "metadata": {
        "colab": {
          "base_uri": "https://localhost:8080/"
        },
        "id": "XxhnHOC4Ry1M",
        "outputId": "567b0c83-ac90-41cb-95c9-671af4c8cd68"
      },
      "source": [
        "5/3"
      ],
      "execution_count": 42,
      "outputs": [
        {
          "output_type": "execute_result",
          "data": {
            "text/plain": [
              "1.6666666666666667"
            ]
          },
          "metadata": {
            "tags": []
          },
          "execution_count": 42
        }
      ]
    },
    {
      "cell_type": "code",
      "metadata": {
        "colab": {
          "base_uri": "https://localhost:8080/"
        },
        "id": "WjN027v6Rayi",
        "outputId": "40dd9c2f-3357-4962-9779-39ce62047431"
      },
      "source": [
        "type(5/3)"
      ],
      "execution_count": 43,
      "outputs": [
        {
          "output_type": "execute_result",
          "data": {
            "text/plain": [
              "float"
            ]
          },
          "metadata": {
            "tags": []
          },
          "execution_count": 43
        }
      ]
    },
    {
      "cell_type": "code",
      "metadata": {
        "colab": {
          "base_uri": "https://localhost:8080/"
        },
        "id": "n8XWOf9ORyVO",
        "outputId": "1baa6075-a540-4c22-d51e-4520882515f0"
      },
      "source": [
        "5//3"
      ],
      "execution_count": 44,
      "outputs": [
        {
          "output_type": "execute_result",
          "data": {
            "text/plain": [
              "1"
            ]
          },
          "metadata": {
            "tags": []
          },
          "execution_count": 44
        }
      ]
    },
    {
      "cell_type": "code",
      "metadata": {
        "colab": {
          "base_uri": "https://localhost:8080/"
        },
        "id": "qj20fktWRa4C",
        "outputId": "4611e907-b1f4-4d53-f71d-f5557cd98adc"
      },
      "source": [
        "type(5//3)"
      ],
      "execution_count": 47,
      "outputs": [
        {
          "output_type": "execute_result",
          "data": {
            "text/plain": [
              "int"
            ]
          },
          "metadata": {
            "tags": []
          },
          "execution_count": 47
        }
      ]
    },
    {
      "cell_type": "code",
      "metadata": {
        "colab": {
          "base_uri": "https://localhost:8080/"
        },
        "id": "ANS6G_mTRH2w",
        "outputId": "8aa104bd-44fa-4d4e-db75-7a2b13db2ebf"
      },
      "source": [
        "int(5/3)"
      ],
      "execution_count": 48,
      "outputs": [
        {
          "output_type": "execute_result",
          "data": {
            "text/plain": [
              "1"
            ]
          },
          "metadata": {
            "tags": []
          },
          "execution_count": 48
        }
      ]
    },
    {
      "cell_type": "code",
      "metadata": {
        "colab": {
          "base_uri": "https://localhost:8080/"
        },
        "id": "Xgff2BSdSFNg",
        "outputId": "c4e0eb32-bdad-4a93-d5c3-42439070391d"
      },
      "source": [
        "type(int(5/3))"
      ],
      "execution_count": 51,
      "outputs": [
        {
          "output_type": "execute_result",
          "data": {
            "text/plain": [
              "int"
            ]
          },
          "metadata": {
            "tags": []
          },
          "execution_count": 51
        }
      ]
    },
    {
      "cell_type": "code",
      "metadata": {
        "colab": {
          "base_uri": "https://localhost:8080/"
        },
        "id": "xEbNL4MWSFP5",
        "outputId": "bdce85e1-b36c-47bd-8189-cc817e0bfa0f"
      },
      "source": [
        "5%3\r\n",
        "#나머지 구할때"
      ],
      "execution_count": 53,
      "outputs": [
        {
          "output_type": "execute_result",
          "data": {
            "text/plain": [
              "2"
            ]
          },
          "metadata": {
            "tags": []
          },
          "execution_count": 53
        }
      ]
    },
    {
      "cell_type": "code",
      "metadata": {
        "colab": {
          "base_uri": "https://localhost:8080/"
        },
        "id": "ut-abGfgSFR_",
        "outputId": "3c2b81a2-ede3-43bd-bac8-b4e360f6b12d"
      },
      "source": [
        "divmod(5,3)\r\n",
        "#몫, 나머지 같이 구할때"
      ],
      "execution_count": 52,
      "outputs": [
        {
          "output_type": "execute_result",
          "data": {
            "text/plain": [
              "(1, 2)"
            ]
          },
          "metadata": {
            "tags": []
          },
          "execution_count": 52
        }
      ]
    },
    {
      "cell_type": "markdown",
      "metadata": {
        "id": "Kbm_qSKETeqX"
      },
      "source": [
        "p.87~88 print"
      ]
    },
    {
      "cell_type": "code",
      "metadata": {
        "colab": {
          "base_uri": "https://localhost:8080/"
        },
        "id": "pPWfM9TqSFVt",
        "outputId": "ad8cc595-e39b-44a3-b6dc-31520023fb20"
      },
      "source": [
        "print('A1',\"B2\")"
      ],
      "execution_count": 54,
      "outputs": [
        {
          "output_type": "stream",
          "text": [
            "A1 B2\n"
          ],
          "name": "stdout"
        }
      ]
    },
    {
      "cell_type": "code",
      "metadata": {
        "colab": {
          "base_uri": "https://localhost:8080/"
        },
        "id": "Nax9Z04hSFZA",
        "outputId": "66c191c1-7b1b-494f-8e54-471ed0ba35df"
      },
      "source": [
        "print('A1','B2',sep=',')"
      ],
      "execution_count": 55,
      "outputs": [
        {
          "output_type": "stream",
          "text": [
            "A1,B2\n"
          ],
          "name": "stdout"
        }
      ]
    },
    {
      "cell_type": "code",
      "metadata": {
        "colab": {
          "base_uri": "https://localhost:8080/"
        },
        "id": "M2ykxrOPSFa4",
        "outputId": "f069555d-c098-40fd-b006-15f684078062"
      },
      "source": [
        "print('aa', end=' ')\r\n",
        "print('bb')"
      ],
      "execution_count": 56,
      "outputs": [
        {
          "output_type": "stream",
          "text": [
            "aa bb\n"
          ],
          "name": "stdout"
        }
      ]
    },
    {
      "cell_type": "code",
      "metadata": {
        "colab": {
          "base_uri": "https://localhost:8080/"
        },
        "id": "z6buX3WiSFc3",
        "outputId": "d7744a8a-3bf0-4dbb-ddf8-884fd087cd5a"
      },
      "source": [
        "a = ['A', 'B']\r\n",
        "print(' '.join(a))"
      ],
      "execution_count": 57,
      "outputs": [
        {
          "output_type": "stream",
          "text": [
            "A B\n"
          ],
          "name": "stdout"
        }
      ]
    },
    {
      "cell_type": "code",
      "metadata": {
        "colab": {
          "base_uri": "https://localhost:8080/"
        },
        "id": "4MyR_dDdUrB3",
        "outputId": "033ce2cd-03ad-4ff7-88be-73dbd5a9e752"
      },
      "source": [
        "idx = 1\r\n",
        "fruit = \"Apple\"\r\n",
        "print('{0}: {1}'.format(idx + 1, fruit))"
      ],
      "execution_count": 58,
      "outputs": [
        {
          "output_type": "stream",
          "text": [
            "2: Apple\n"
          ],
          "name": "stdout"
        }
      ]
    },
    {
      "cell_type": "code",
      "metadata": {
        "colab": {
          "base_uri": "https://localhost:8080/"
        },
        "id": "CC_7fJmGUrGz",
        "outputId": "18bdbba7-aa1b-42dc-a197-891ee1243d3a"
      },
      "source": [
        "print(f'{idx + 1}: {fruit}')"
      ],
      "execution_count": 59,
      "outputs": [
        {
          "output_type": "stream",
          "text": [
            "2: Apple\n"
          ],
          "name": "stdout"
        }
      ]
    },
    {
      "cell_type": "markdown",
      "metadata": {
        "id": "FjRqBWlLUxDd"
      },
      "source": [
        "p.89 pass"
      ]
    },
    {
      "cell_type": "code",
      "metadata": {
        "colab": {
          "base_uri": "https://localhost:8080/",
          "height": 139
        },
        "id": "2ffAekzoUrMB",
        "outputId": "83344241-a5c3-41e6-b690-32f2aca7aa61"
      },
      "source": [
        "class MyClass(object):\r\n",
        "    def method_a(self):\r\n",
        "\r\n",
        "    def method_b(self):\r\n",
        "        print(\"Method B\")\r\n",
        "\r\n",
        "c = MyClass()\r\n",
        "#인덴트 오류 : method_a()가 아무런 처리를 하지 않았기 때문에 method_b()에서 오류 발생함"
      ],
      "execution_count": 60,
      "outputs": [
        {
          "output_type": "error",
          "ename": "IndentationError",
          "evalue": "ignored",
          "traceback": [
            "\u001b[0;36m  File \u001b[0;32m\"<ipython-input-60-3dc6be95ef7a>\"\u001b[0;36m, line \u001b[0;32m4\u001b[0m\n\u001b[0;31m    def method_b(self):\u001b[0m\n\u001b[0m      ^\u001b[0m\n\u001b[0;31mIndentationError\u001b[0m\u001b[0;31m:\u001b[0m expected an indented block\n"
          ]
        }
      ]
    },
    {
      "cell_type": "code",
      "metadata": {
        "id": "xSk37mGnUrU4"
      },
      "source": [
        "class MyClass(object):\r\n",
        "    def method_a(self):\r\n",
        "        pass\r\n",
        "\r\n",
        "    def method_b(self):\r\n",
        "        print(\"Method B\")\r\n",
        "\r\n",
        "c = MyClass()\r\n",
        "\r\n",
        "#pass는 널 연산으로 아무것도 하지 않는 기능"
      ],
      "execution_count": 62,
      "outputs": []
    },
    {
      "cell_type": "markdown",
      "metadata": {
        "id": "b_0dL5wfyJTZ"
      },
      "source": [
        "p.90 locals"
      ]
    },
    {
      "cell_type": "code",
      "metadata": {
        "colab": {
          "base_uri": "https://localhost:8080/"
        },
        "id": "DfaDiMbRyNmS",
        "outputId": "c5060de4-d9c7-4145-e264-71ad291c1856"
      },
      "source": [
        "import pprint\r\n",
        "pprint.pprint(locals())\r\n",
        "\r\n",
        "#pprint로 출력하면, 줄바꿈 처리를 해주기 때문에 가독성이 높다\r\n",
        "#클래스 메소드 내부에 있는 모든 로컬변수들을 출력함 -> 디버깅에 많은 도움 ㅇ"
      ],
      "execution_count": 63,
      "outputs": [
        {
          "output_type": "stream",
          "text": [
            "{'In': ['',\n",
            "        'foo = [\\'A\\', \\'B\\', \"C\"]\\nfor f in foo:\\n  print(f)',\n",
            "        'from dataclasses import dataclass\\n'\n",
            "        '\\n'\n",
            "        '@dataclass\\n'\n",
            "        'class Rectangle:\\n'\n",
            "        '    width: int\\n'\n",
            "        '    height: int\\n'\n",
            "        '\\n'\n",
            "        '    def area(self):\\n'\n",
            "        '        return self.width * self.height\\n'\n",
            "        '\\n'\n",
            "        'rect = Rectangle(3,4)\\n'\n",
            "        'print(rect.area())',\n",
            "        '#공백 4칸 원칙\\n'\n",
            "        'foo = long_function_name(var_one, var_two,\\n'\n",
            "        '                         var_three, var_four)',\n",
            "        'list(map(lambda x : x + 10, [1, 2, 3]))',\n",
            "        '[ n * 2 for n in range(1, 10+1) if n % 2 == 1]',\n",
            "        'def get_natural_number():\\n'\n",
            "        '    n = 0\\n'\n",
            "        '    while True:\\n'\n",
            "        '        n += 1\\n'\n",
            "        '        yield n\\n'\n",
            "        '\\n'\n",
            "        'get_natural_number()',\n",
            "        'g = get_natural_number()\\n'\n",
            "        'for _ in range(0,100):\\n'\n",
            "        '    print(next(g))\\n'\n",
            "        '\\n'\n",
            "        '#100번 동안 next()를 수행하면 100개의 값을 생성한다',\n",
            "        'def generator():\\n'\n",
            "        '  yield 1\\n'\n",
            "        \"  yield 'string'\\n\"\n",
            "        '  yield True\\n'\n",
            "        '  g = generator()\\n'\n",
            "        '  g',\n",
            "        'def generator():\\n'\n",
            "        '  yield 1\\n'\n",
            "        \"  yield 'string'\\n\"\n",
            "        '  yield True\\n'\n",
            "        '  g = generator()\\n'\n",
            "        '  g',\n",
            "        'def generator():\\n'\n",
            "        '   yield 1\\n'\n",
            "        \"   yield 'string'\\n\"\n",
            "        '  yield True\\n'\n",
            "        '  g = generator()\\n'\n",
            "        '  g',\n",
            "        'def generator():\\n'\n",
            "        '   yield 1\\n'\n",
            "        \"   yield 'string'\\n\"\n",
            "        '   yield True\\n'\n",
            "        'g = generator()\\n'\n",
            "        'g',\n",
            "        'next(g)',\n",
            "        'netx(g)',\n",
            "        'next(g)',\n",
            "        'next(g)',\n",
            "        'list(rangd(5))',\n",
            "        'list(range(5))',\n",
            "        'range(0.,5)',\n",
            "        'range(0,5)',\n",
            "        'type(range(5))',\n",
            "        'for i in range(5)\\n    print(i, end=\"\")',\n",
            "        'for i in range(5):\\n    print(i, end=\"\")',\n",
            "        'len(a)',\n",
            "        'a = [n for n in range(1000000)] #이미 생성된 값이 담겨 있는 것\\n'\n",
            "        'b = range(1000000) #생성해야 한다는 조건만 존재',\n",
            "        'len(a)',\n",
            "        'len(b)',\n",
            "        'len(a)==len(b)',\n",
            "        'b',\n",
            "        'type(b)',\n",
            "        'sys.getsizeof(a)',\n",
            "        'b[999]',\n",
            "        'a = [1,2,3,2,45,2,5]\\na',\n",
            "        'enumerate(a)\\n#순서가 있는 자료형을 인덱스를 포함한 enumerate 객체로 리턴한다',\n",
            "        'list(enumerate())',\n",
            "        'list(enumerate(a))',\n",
            "        'for i in range(len(a))',\n",
            "        'for i in range(len(a)):',\n",
            "        'for i in range(len(a)):\\n    print(i,a[I])',\n",
            "        'for i in range(len(a)):\\n    print(i,a[i])',\n",
            "        'i = 0\\nfor v in a:\\n    print(i,v)\\n    i += 1',\n",
            "        'for i, v in enumerate(a):\\n    print(i,v)',\n",
            "        '5/3',\n",
            "        'type(5/3)',\n",
            "        '5//3',\n",
            "        'type(5//3)',\n",
            "        'type(5/3)',\n",
            "        'type(5//3)',\n",
            "        'int(5/3)',\n",
            "        'type(int5/3)',\n",
            "        'type((int5/3))',\n",
            "        'type(int(5/3))',\n",
            "        'divmod(5,3)\\n#몫, 나머지 같이 구할때',\n",
            "        '5%3\\n#나머지 구할때',\n",
            "        'print(\\'A1\\',\"B2\")',\n",
            "        \"print('A1','B2',sep=',')\",\n",
            "        \"print('aa', end=' ')\\nprint('bb')\",\n",
            "        \"a = ['A', 'B']\\nprint(' '.join(a))\",\n",
            "        'idx = 1\\nfruit = \"Apple\"\\nprint(\\'{0}: {1}\\'.format(idx + 1, fruit))',\n",
            "        \"print(f'{idx + 1}: {fruit}')\",\n",
            "        'class MyClass(object):\\n'\n",
            "        '    def method_a(self):\\n'\n",
            "        '\\n'\n",
            "        '    def method_b(self):\\n'\n",
            "        '        print(\"Method B\")\\n'\n",
            "        '\\n'\n",
            "        'c = MyClass()',\n",
            "        'class MyClass(object):\\n'\n",
            "        '    def method_a(self):\\n'\n",
            "        '        pass\\n'\n",
            "        '\\n'\n",
            "        '    def method_b(self):\\n'\n",
            "        '        print(\"Method B\")\\n'\n",
            "        '\\n'\n",
            "        'c = MyClass()\\n'\n",
            "        '\\n'\n",
            "        '#pass는 널 연산으로 아무것도 하지 않는 기능',\n",
            "        'class MyClass(object):\\n'\n",
            "        '    def method_a(self):\\n'\n",
            "        '        pass\\n'\n",
            "        '\\n'\n",
            "        '    def method_b(self):\\n'\n",
            "        '        print(\"Method B\")\\n'\n",
            "        '\\n'\n",
            "        'c = MyClass()\\n'\n",
            "        '\\n'\n",
            "        '#pass는 널 연산으로 아무것도 하지 않는 기능',\n",
            "        'import pprint\\n'\n",
            "        'pprint.pprint(locals())\\n'\n",
            "        '\\n'\n",
            "        '#pprint로 출력하면, 줄바꿈 처리를 해주기 때문에 가독성이 높다\\n'\n",
            "        '#클래스 메소드 내부에 있는 모든 로컬변수들을 출력함 -> 디버깅에 많은 도움 ㅇ'],\n",
            " 'MyClass': <class '__main__.MyClass'>,\n",
            " 'Out': {4: [11, 12, 13],\n",
            "         5: [2, 6, 10, 14, 18],\n",
            "         6: <generator object get_natural_number at 0x7f225f1e5050>,\n",
            "         11: <generator object generator at 0x7f225f1857d0>,\n",
            "         12: 1,\n",
            "         14: 'string',\n",
            "         15: True,\n",
            "         17: [0, 1, 2, 3, 4],\n",
            "         19: range(0, 5),\n",
            "         20: <class 'range'>,\n",
            "         25: 1000000,\n",
            "         26: 1000000,\n",
            "         27: True,\n",
            "         28: range(0, 1000000),\n",
            "         29: <class 'range'>,\n",
            "         31: 999,\n",
            "         32: [1, 2, 3, 2, 45, 2, 5],\n",
            "         33: <enumerate object at 0x7f225f223a50>,\n",
            "         35: [(0, 1), (1, 2), (2, 3), (3, 2), (4, 45), (5, 2), (6, 5)],\n",
            "         42: 1.6666666666666667,\n",
            "         43: <class 'float'>,\n",
            "         44: 1,\n",
            "         45: <class 'int'>,\n",
            "         46: <class 'float'>,\n",
            "         47: <class 'int'>,\n",
            "         48: 1,\n",
            "         51: <class 'int'>,\n",
            "         52: (1, 2),\n",
            "         53: 2},\n",
            " 'Rectangle': <class '__main__.Rectangle'>,\n",
            " '_': 2,\n",
            " '_11': <generator object generator at 0x7f225f1857d0>,\n",
            " '_12': 1,\n",
            " '_14': 'string',\n",
            " '_15': True,\n",
            " '_17': [0, 1, 2, 3, 4],\n",
            " '_19': range(0, 5),\n",
            " '_20': <class 'range'>,\n",
            " '_25': 1000000,\n",
            " '_26': 1000000,\n",
            " '_27': True,\n",
            " '_28': range(0, 1000000),\n",
            " '_29': <class 'range'>,\n",
            " '_31': 999,\n",
            " '_32': [1, 2, 3, 2, 45, 2, 5],\n",
            " '_33': <enumerate object at 0x7f225f223a50>,\n",
            " '_35': [(0, 1), (1, 2), (2, 3), (3, 2), (4, 45), (5, 2), (6, 5)],\n",
            " '_4': [11, 12, 13],\n",
            " '_42': 1.6666666666666667,\n",
            " '_43': <class 'float'>,\n",
            " '_44': 1,\n",
            " '_45': <class 'int'>,\n",
            " '_46': <class 'float'>,\n",
            " '_47': <class 'int'>,\n",
            " '_48': 1,\n",
            " '_5': [2, 6, 10, 14, 18],\n",
            " '_51': <class 'int'>,\n",
            " '_52': (1, 2),\n",
            " '_53': 2,\n",
            " '_6': <generator object get_natural_number at 0x7f225f1e5050>,\n",
            " '__': (1, 2),\n",
            " '___': <class 'int'>,\n",
            " '__builtin__': <module 'builtins' (built-in)>,\n",
            " '__builtins__': <module 'builtins' (built-in)>,\n",
            " '__doc__': 'Automatically created module for IPython interactive environment',\n",
            " '__loader__': None,\n",
            " '__name__': '__main__',\n",
            " '__package__': None,\n",
            " '__spec__': None,\n",
            " '_dh': ['/content'],\n",
            " '_i': 'class MyClass(object):\\n'\n",
            "       '    def method_a(self):\\n'\n",
            "       '        pass\\n'\n",
            "       '\\n'\n",
            "       '    def method_b(self):\\n'\n",
            "       '        print(\"Method B\")\\n'\n",
            "       '\\n'\n",
            "       'c = MyClass()\\n'\n",
            "       '\\n'\n",
            "       '#pass는 널 연산으로 아무것도 하지 않는 기능',\n",
            " '_i1': 'foo = [\\'A\\', \\'B\\', \"C\"]\\nfor f in foo:\\n  print(f)',\n",
            " '_i10': 'def generator():\\n'\n",
            "         '   yield 1\\n'\n",
            "         \"   yield 'string'\\n\"\n",
            "         '  yield True\\n'\n",
            "         '  g = generator()\\n'\n",
            "         '  g',\n",
            " '_i11': 'def generator():\\n'\n",
            "         '   yield 1\\n'\n",
            "         \"   yield 'string'\\n\"\n",
            "         '   yield True\\n'\n",
            "         'g = generator()\\n'\n",
            "         'g',\n",
            " '_i12': 'next(g)',\n",
            " '_i13': 'netx(g)',\n",
            " '_i14': 'next(g)',\n",
            " '_i15': 'next(g)',\n",
            " '_i16': 'list(rangd(5))',\n",
            " '_i17': 'list(range(5))',\n",
            " '_i18': 'range(0.,5)',\n",
            " '_i19': 'range(0,5)',\n",
            " '_i2': 'from dataclasses import dataclass\\n'\n",
            "        '\\n'\n",
            "        '@dataclass\\n'\n",
            "        'class Rectangle:\\n'\n",
            "        '    width: int\\n'\n",
            "        '    height: int\\n'\n",
            "        '\\n'\n",
            "        '    def area(self):\\n'\n",
            "        '        return self.width * self.height\\n'\n",
            "        '\\n'\n",
            "        'rect = Rectangle(3,4)\\n'\n",
            "        'print(rect.area())',\n",
            " '_i20': 'type(range(5))',\n",
            " '_i21': 'for i in range(5)\\n    print(i, end=\"\")',\n",
            " '_i22': 'for i in range(5):\\n    print(i, end=\"\")',\n",
            " '_i23': 'len(a)',\n",
            " '_i24': 'a = [n for n in range(1000000)] #이미 생성된 값이 담겨 있는 것\\n'\n",
            "         'b = range(1000000) #생성해야 한다는 조건만 존재',\n",
            " '_i25': 'len(a)',\n",
            " '_i26': 'len(b)',\n",
            " '_i27': 'len(a)==len(b)',\n",
            " '_i28': 'b',\n",
            " '_i29': 'type(b)',\n",
            " '_i3': '#공백 4칸 원칙\\n'\n",
            "        'foo = long_function_name(var_one, var_two,\\n'\n",
            "        '                         var_three, var_four)',\n",
            " '_i30': 'sys.getsizeof(a)',\n",
            " '_i31': 'b[999]',\n",
            " '_i32': 'a = [1,2,3,2,45,2,5]\\na',\n",
            " '_i33': 'enumerate(a)\\n#순서가 있는 자료형을 인덱스를 포함한 enumerate 객체로 리턴한다',\n",
            " '_i34': 'list(enumerate())',\n",
            " '_i35': 'list(enumerate(a))',\n",
            " '_i36': 'for i in range(len(a))',\n",
            " '_i37': 'for i in range(len(a)):',\n",
            " '_i38': 'for i in range(len(a)):\\n    print(i,a[I])',\n",
            " '_i39': 'for i in range(len(a)):\\n    print(i,a[i])',\n",
            " '_i4': 'list(map(lambda x : x + 10, [1, 2, 3]))',\n",
            " '_i40': 'i = 0\\nfor v in a:\\n    print(i,v)\\n    i += 1',\n",
            " '_i41': 'for i, v in enumerate(a):\\n    print(i,v)',\n",
            " '_i42': '5/3',\n",
            " '_i43': 'type(5/3)',\n",
            " '_i44': '5//3',\n",
            " '_i45': 'type(5//3)',\n",
            " '_i46': 'type(5/3)',\n",
            " '_i47': 'type(5//3)',\n",
            " '_i48': 'int(5/3)',\n",
            " '_i49': 'type(int5/3)',\n",
            " '_i5': '[ n * 2 for n in range(1, 10+1) if n % 2 == 1]',\n",
            " '_i50': 'type((int5/3))',\n",
            " '_i51': 'type(int(5/3))',\n",
            " '_i52': 'divmod(5,3)\\n#몫, 나머지 같이 구할때',\n",
            " '_i53': '5%3\\n#나머지 구할때',\n",
            " '_i54': 'print(\\'A1\\',\"B2\")',\n",
            " '_i55': \"print('A1','B2',sep=',')\",\n",
            " '_i56': \"print('aa', end=' ')\\nprint('bb')\",\n",
            " '_i57': \"a = ['A', 'B']\\nprint(' '.join(a))\",\n",
            " '_i58': 'idx = 1\\nfruit = \"Apple\"\\nprint(\\'{0}: {1}\\'.format(idx + 1, fruit))',\n",
            " '_i59': \"print(f'{idx + 1}: {fruit}')\",\n",
            " '_i6': 'def get_natural_number():\\n'\n",
            "        '    n = 0\\n'\n",
            "        '    while True:\\n'\n",
            "        '        n += 1\\n'\n",
            "        '        yield n\\n'\n",
            "        '\\n'\n",
            "        'get_natural_number()',\n",
            " '_i60': 'class MyClass(object):\\n'\n",
            "         '    def method_a(self):\\n'\n",
            "         '\\n'\n",
            "         '    def method_b(self):\\n'\n",
            "         '        print(\"Method B\")\\n'\n",
            "         '\\n'\n",
            "         'c = MyClass()',\n",
            " '_i61': 'class MyClass(object):\\n'\n",
            "         '    def method_a(self):\\n'\n",
            "         '        pass\\n'\n",
            "         '\\n'\n",
            "         '    def method_b(self):\\n'\n",
            "         '        print(\"Method B\")\\n'\n",
            "         '\\n'\n",
            "         'c = MyClass()\\n'\n",
            "         '\\n'\n",
            "         '#pass는 널 연산으로 아무것도 하지 않는 기능',\n",
            " '_i62': 'class MyClass(object):\\n'\n",
            "         '    def method_a(self):\\n'\n",
            "         '        pass\\n'\n",
            "         '\\n'\n",
            "         '    def method_b(self):\\n'\n",
            "         '        print(\"Method B\")\\n'\n",
            "         '\\n'\n",
            "         'c = MyClass()\\n'\n",
            "         '\\n'\n",
            "         '#pass는 널 연산으로 아무것도 하지 않는 기능',\n",
            " '_i63': 'import pprint\\n'\n",
            "         'pprint.pprint(locals())\\n'\n",
            "         '\\n'\n",
            "         '#pprint로 출력하면, 줄바꿈 처리를 해주기 때문에 가독성이 높다\\n'\n",
            "         '#클래스 메소드 내부에 있는 모든 로컬변수들을 출력함 -> 디버깅에 많은 도움 ㅇ',\n",
            " '_i7': 'g = get_natural_number()\\n'\n",
            "        'for _ in range(0,100):\\n'\n",
            "        '    print(next(g))\\n'\n",
            "        '\\n'\n",
            "        '#100번 동안 next()를 수행하면 100개의 값을 생성한다',\n",
            " '_i8': 'def generator():\\n'\n",
            "        '  yield 1\\n'\n",
            "        \"  yield 'string'\\n\"\n",
            "        '  yield True\\n'\n",
            "        '  g = generator()\\n'\n",
            "        '  g',\n",
            " '_i9': 'def generator():\\n'\n",
            "        '  yield 1\\n'\n",
            "        \"  yield 'string'\\n\"\n",
            "        '  yield True\\n'\n",
            "        '  g = generator()\\n'\n",
            "        '  g',\n",
            " '_ih': ['',\n",
            "         'foo = [\\'A\\', \\'B\\', \"C\"]\\nfor f in foo:\\n  print(f)',\n",
            "         'from dataclasses import dataclass\\n'\n",
            "         '\\n'\n",
            "         '@dataclass\\n'\n",
            "         'class Rectangle:\\n'\n",
            "         '    width: int\\n'\n",
            "         '    height: int\\n'\n",
            "         '\\n'\n",
            "         '    def area(self):\\n'\n",
            "         '        return self.width * self.height\\n'\n",
            "         '\\n'\n",
            "         'rect = Rectangle(3,4)\\n'\n",
            "         'print(rect.area())',\n",
            "         '#공백 4칸 원칙\\n'\n",
            "         'foo = long_function_name(var_one, var_two,\\n'\n",
            "         '                         var_three, var_four)',\n",
            "         'list(map(lambda x : x + 10, [1, 2, 3]))',\n",
            "         '[ n * 2 for n in range(1, 10+1) if n % 2 == 1]',\n",
            "         'def get_natural_number():\\n'\n",
            "         '    n = 0\\n'\n",
            "         '    while True:\\n'\n",
            "         '        n += 1\\n'\n",
            "         '        yield n\\n'\n",
            "         '\\n'\n",
            "         'get_natural_number()',\n",
            "         'g = get_natural_number()\\n'\n",
            "         'for _ in range(0,100):\\n'\n",
            "         '    print(next(g))\\n'\n",
            "         '\\n'\n",
            "         '#100번 동안 next()를 수행하면 100개의 값을 생성한다',\n",
            "         'def generator():\\n'\n",
            "         '  yield 1\\n'\n",
            "         \"  yield 'string'\\n\"\n",
            "         '  yield True\\n'\n",
            "         '  g = generator()\\n'\n",
            "         '  g',\n",
            "         'def generator():\\n'\n",
            "         '  yield 1\\n'\n",
            "         \"  yield 'string'\\n\"\n",
            "         '  yield True\\n'\n",
            "         '  g = generator()\\n'\n",
            "         '  g',\n",
            "         'def generator():\\n'\n",
            "         '   yield 1\\n'\n",
            "         \"   yield 'string'\\n\"\n",
            "         '  yield True\\n'\n",
            "         '  g = generator()\\n'\n",
            "         '  g',\n",
            "         'def generator():\\n'\n",
            "         '   yield 1\\n'\n",
            "         \"   yield 'string'\\n\"\n",
            "         '   yield True\\n'\n",
            "         'g = generator()\\n'\n",
            "         'g',\n",
            "         'next(g)',\n",
            "         'netx(g)',\n",
            "         'next(g)',\n",
            "         'next(g)',\n",
            "         'list(rangd(5))',\n",
            "         'list(range(5))',\n",
            "         'range(0.,5)',\n",
            "         'range(0,5)',\n",
            "         'type(range(5))',\n",
            "         'for i in range(5)\\n    print(i, end=\"\")',\n",
            "         'for i in range(5):\\n    print(i, end=\"\")',\n",
            "         'len(a)',\n",
            "         'a = [n for n in range(1000000)] #이미 생성된 값이 담겨 있는 것\\n'\n",
            "         'b = range(1000000) #생성해야 한다는 조건만 존재',\n",
            "         'len(a)',\n",
            "         'len(b)',\n",
            "         'len(a)==len(b)',\n",
            "         'b',\n",
            "         'type(b)',\n",
            "         'sys.getsizeof(a)',\n",
            "         'b[999]',\n",
            "         'a = [1,2,3,2,45,2,5]\\na',\n",
            "         'enumerate(a)\\n#순서가 있는 자료형을 인덱스를 포함한 enumerate 객체로 리턴한다',\n",
            "         'list(enumerate())',\n",
            "         'list(enumerate(a))',\n",
            "         'for i in range(len(a))',\n",
            "         'for i in range(len(a)):',\n",
            "         'for i in range(len(a)):\\n    print(i,a[I])',\n",
            "         'for i in range(len(a)):\\n    print(i,a[i])',\n",
            "         'i = 0\\nfor v in a:\\n    print(i,v)\\n    i += 1',\n",
            "         'for i, v in enumerate(a):\\n    print(i,v)',\n",
            "         '5/3',\n",
            "         'type(5/3)',\n",
            "         '5//3',\n",
            "         'type(5//3)',\n",
            "         'type(5/3)',\n",
            "         'type(5//3)',\n",
            "         'int(5/3)',\n",
            "         'type(int5/3)',\n",
            "         'type((int5/3))',\n",
            "         'type(int(5/3))',\n",
            "         'divmod(5,3)\\n#몫, 나머지 같이 구할때',\n",
            "         '5%3\\n#나머지 구할때',\n",
            "         'print(\\'A1\\',\"B2\")',\n",
            "         \"print('A1','B2',sep=',')\",\n",
            "         \"print('aa', end=' ')\\nprint('bb')\",\n",
            "         \"a = ['A', 'B']\\nprint(' '.join(a))\",\n",
            "         'idx = 1\\nfruit = \"Apple\"\\nprint(\\'{0}: {1}\\'.format(idx + 1, fruit))',\n",
            "         \"print(f'{idx + 1}: {fruit}')\",\n",
            "         'class MyClass(object):\\n'\n",
            "         '    def method_a(self):\\n'\n",
            "         '\\n'\n",
            "         '    def method_b(self):\\n'\n",
            "         '        print(\"Method B\")\\n'\n",
            "         '\\n'\n",
            "         'c = MyClass()',\n",
            "         'class MyClass(object):\\n'\n",
            "         '    def method_a(self):\\n'\n",
            "         '        pass\\n'\n",
            "         '\\n'\n",
            "         '    def method_b(self):\\n'\n",
            "         '        print(\"Method B\")\\n'\n",
            "         '\\n'\n",
            "         'c = MyClass()\\n'\n",
            "         '\\n'\n",
            "         '#pass는 널 연산으로 아무것도 하지 않는 기능',\n",
            "         'class MyClass(object):\\n'\n",
            "         '    def method_a(self):\\n'\n",
            "         '        pass\\n'\n",
            "         '\\n'\n",
            "         '    def method_b(self):\\n'\n",
            "         '        print(\"Method B\")\\n'\n",
            "         '\\n'\n",
            "         'c = MyClass()\\n'\n",
            "         '\\n'\n",
            "         '#pass는 널 연산으로 아무것도 하지 않는 기능',\n",
            "         'import pprint\\n'\n",
            "         'pprint.pprint(locals())\\n'\n",
            "         '\\n'\n",
            "         '#pprint로 출력하면, 줄바꿈 처리를 해주기 때문에 가독성이 높다\\n'\n",
            "         '#클래스 메소드 내부에 있는 모든 로컬변수들을 출력함 -> 디버깅에 많은 도움 ㅇ'],\n",
            " '_ii': 'class MyClass(object):\\n'\n",
            "        '    def method_a(self):\\n'\n",
            "        '        pass\\n'\n",
            "        '\\n'\n",
            "        '    def method_b(self):\\n'\n",
            "        '        print(\"Method B\")\\n'\n",
            "        '\\n'\n",
            "        'c = MyClass()\\n'\n",
            "        '\\n'\n",
            "        '#pass는 널 연산으로 아무것도 하지 않는 기능',\n",
            " '_iii': 'class MyClass(object):\\n'\n",
            "         '    def method_a(self):\\n'\n",
            "         '\\n'\n",
            "         '    def method_b(self):\\n'\n",
            "         '        print(\"Method B\")\\n'\n",
            "         '\\n'\n",
            "         'c = MyClass()',\n",
            " '_oh': {4: [11, 12, 13],\n",
            "         5: [2, 6, 10, 14, 18],\n",
            "         6: <generator object get_natural_number at 0x7f225f1e5050>,\n",
            "         11: <generator object generator at 0x7f225f1857d0>,\n",
            "         12: 1,\n",
            "         14: 'string',\n",
            "         15: True,\n",
            "         17: [0, 1, 2, 3, 4],\n",
            "         19: range(0, 5),\n",
            "         20: <class 'range'>,\n",
            "         25: 1000000,\n",
            "         26: 1000000,\n",
            "         27: True,\n",
            "         28: range(0, 1000000),\n",
            "         29: <class 'range'>,\n",
            "         31: 999,\n",
            "         32: [1, 2, 3, 2, 45, 2, 5],\n",
            "         33: <enumerate object at 0x7f225f223a50>,\n",
            "         35: [(0, 1), (1, 2), (2, 3), (3, 2), (4, 45), (5, 2), (6, 5)],\n",
            "         42: 1.6666666666666667,\n",
            "         43: <class 'float'>,\n",
            "         44: 1,\n",
            "         45: <class 'int'>,\n",
            "         46: <class 'float'>,\n",
            "         47: <class 'int'>,\n",
            "         48: 1,\n",
            "         51: <class 'int'>,\n",
            "         52: (1, 2),\n",
            "         53: 2},\n",
            " '_sh': <module 'IPython.core.shadowns' from '/usr/local/lib/python3.7/dist-packages/IPython/core/shadowns.py'>,\n",
            " 'a': ['A', 'B'],\n",
            " 'b': range(0, 1000000),\n",
            " 'c': <__main__.MyClass object at 0x7f225f156f50>,\n",
            " 'dataclass': <function dataclass at 0x7f225f243050>,\n",
            " 'exit': <IPython.core.autocall.ZMQExitAutocall object at 0x7f226697c110>,\n",
            " 'f': 'C',\n",
            " 'foo': ['A', 'B', 'C'],\n",
            " 'fruit': 'Apple',\n",
            " 'g': <generator object generator at 0x7f225f1857d0>,\n",
            " 'generator': <function generator at 0x7f225f198e60>,\n",
            " 'get_ipython': <bound method InteractiveShell.get_ipython of <google.colab._shell.Shell object at 0x7f22691d4d90>>,\n",
            " 'get_natural_number': <function get_natural_number at 0x7f225f207c20>,\n",
            " 'i': 6,\n",
            " 'idx': 1,\n",
            " 'pprint': <module 'pprint' from '/usr/lib/python3.7/pprint.py'>,\n",
            " 'quit': <IPython.core.autocall.ZMQExitAutocall object at 0x7f226697c110>,\n",
            " 'rect': Rectangle(width=3, height=4),\n",
            " 'v': 5}\n"
          ],
          "name": "stdout"
        }
      ]
    },
    {
      "cell_type": "markdown",
      "metadata": {
        "id": "cN4gGrHByoa1"
      },
      "source": [
        "p.92~93 변수명과 주석"
      ]
    },
    {
      "cell_type": "code",
      "metadata": {
        "id": "8GbsY4b7ytes"
      },
      "source": [
        "def numMatchingSubseq(self, S: str, words: List[str]) -> int:\r\n",
        "    matched_count = 0\r\n",
        "\r\n",
        "    for word in words:\r\n",
        "       #Find matching position for each character.\r\n",
        "       found_pos = S[pos:].find(word[i])\r\n",
        "       if found_pos < 0:\r\n",
        "           matched_count -= 1\r\n",
        "           break\r\n",
        "       else: #If found, take step position forward.\r\n",
        "           pos += found_pos + 1\r\n",
        "    matched_count += 1\r\n",
        "\r\n",
        "return matched_count\r\n",
        "#간단한 주석을 부여하는 것이 가독성이 높다\r\n",
        "#변수명도 각각의 의미가 있는 것으로!"
      ],
      "execution_count": null,
      "outputs": []
    },
    {
      "cell_type": "markdown",
      "metadata": {
        "id": "jhzw7FkDzFfy"
      },
      "source": [
        "p.94~95 리스트 컴프리헨션"
      ]
    },
    {
      "cell_type": "code",
      "metadata": {
        "id": "tIaCpzs5zKNa"
      },
      "source": [
        "str1s = []\r\n",
        "for i in range(len(str1) - 1):\r\n",
        "    if re.findall('[a-z]{2}', str1[i:i+2].lower()):\r\n",
        "        str1s.append(str1[i:i+2].lower())\r\n",
        "#위에서 아래까지 차례대로"
      ],
      "execution_count": null,
      "outputs": []
    },
    {
      "cell_type": "markdown",
      "metadata": {
        "id": "AVU1fLwLzNf5"
      },
      "source": [
        "p.95~96 구글 파이썬 스타일 가이드"
      ]
    },
    {
      "cell_type": "code",
      "metadata": {
        "id": "-gHZxI1ezSvp"
      },
      "source": [
        "Yes: def foo(a, b=None):\r\n",
        "         if b is None:\r\n",
        "             b = []\r\n",
        "Yes: def foo(a, b: Optional[Sequence] = None):\r\n",
        "         if b is None:\r\n",
        "             b = []\r\n"
      ],
      "execution_count": null,
      "outputs": []
    },
    {
      "cell_type": "code",
      "metadata": {
        "id": "0YXAxCWvzWdB"
      },
      "source": [
        "Yes: if not user:\r\n",
        "         print('no user')\r\n",
        "\r\n",
        "     if foo == 0:\r\n",
        "         self.handle_zero()\r\n",
        "\r\n",
        "\r\n",
        "     if i % 10 == 0:\r\n",
        "         self.handle_multiple_of_ten()\r\n",
        "\r\n",
        "No: if len(user) == 0:\r\n",
        "        print('no user')\r\n",
        "\r\n",
        "    if foo is not None and not foo:\r\n",
        "        self.handle_zero()\r\n",
        "\r\n",
        "    if not i % 10:\r\n",
        "        self.handle_multiple_of_ten()"
      ],
      "execution_count": null,
      "outputs": []
    },
    {
      "cell_type": "markdown",
      "metadata": {
        "id": "Qg0rdcrVzpxe"
      },
      "source": [
        "p.102 빅오"
      ]
    },
    {
      "cell_type": "code",
      "metadata": {
        "colab": {
          "base_uri": "https://localhost:8080/"
        },
        "id": "p6rEuSCUz2xL",
        "outputId": "c93dd8f1-259f-471d-ac61-f8f316d7451d"
      },
      "source": [
        "for n in range(1,15 + 1):\r\n",
        "    print(n, n**2, 2**n)"
      ],
      "execution_count": 65,
      "outputs": [
        {
          "output_type": "stream",
          "text": [
            "1 1 2\n",
            "2 4 4\n",
            "3 9 8\n",
            "4 16 16\n",
            "5 25 32\n",
            "6 36 64\n",
            "7 49 128\n",
            "8 64 256\n",
            "9 81 512\n",
            "10 100 1024\n",
            "11 121 2048\n",
            "12 144 4096\n",
            "13 169 8192\n",
            "14 196 16384\n",
            "15 225 32768\n"
          ],
          "name": "stdout"
        }
      ]
    },
    {
      "cell_type": "markdown",
      "metadata": {
        "id": "4-f0xPfX0Ee3"
      },
      "source": [
        "p.110~111 집합"
      ]
    },
    {
      "cell_type": "code",
      "metadata": {
        "colab": {
          "base_uri": "https://localhost:8080/"
        },
        "id": "YyxMMdL70Etl",
        "outputId": "7fefdb38-eb18-4313-93ee-18535ff7ef65"
      },
      "source": [
        "a =set()\r\n",
        "a"
      ],
      "execution_count": 67,
      "outputs": [
        {
          "output_type": "execute_result",
          "data": {
            "text/plain": [
              "set()"
            ]
          },
          "metadata": {
            "tags": []
          },
          "execution_count": 67
        }
      ]
    },
    {
      "cell_type": "code",
      "metadata": {
        "colab": {
          "base_uri": "https://localhost:8080/"
        },
        "id": "I2xVdHyt0N7-",
        "outputId": "ecc5c5c2-4809-487b-fbf2-5357d3f7474a"
      },
      "source": [
        "type(a)"
      ],
      "execution_count": 68,
      "outputs": [
        {
          "output_type": "execute_result",
          "data": {
            "text/plain": [
              "set"
            ]
          },
          "metadata": {
            "tags": []
          },
          "execution_count": 68
        }
      ]
    },
    {
      "cell_type": "code",
      "metadata": {
        "colab": {
          "base_uri": "https://localhost:8080/"
        },
        "id": "EJ2X4H6s0Oit",
        "outputId": "a533f0da-9846-4c64-caab-77f27ad5147b"
      },
      "source": [
        "a = {'a','b','c'}\r\n",
        "type(a)"
      ],
      "execution_count": 69,
      "outputs": [
        {
          "output_type": "execute_result",
          "data": {
            "text/plain": [
              "set"
            ]
          },
          "metadata": {
            "tags": []
          },
          "execution_count": 69
        }
      ]
    },
    {
      "cell_type": "code",
      "metadata": {
        "colab": {
          "base_uri": "https://localhost:8080/"
        },
        "id": "8gWCL_fC0Ons",
        "outputId": "c831c624-5236-4d9d-b023-9015a979f9b8"
      },
      "source": [
        "a = {'a':'A', 'b':'B', 'c':'C'}\r\n",
        "type(a)"
      ],
      "execution_count": 70,
      "outputs": [
        {
          "output_type": "execute_result",
          "data": {
            "text/plain": [
              "dict"
            ]
          },
          "metadata": {
            "tags": []
          },
          "execution_count": 70
        }
      ]
    },
    {
      "cell_type": "code",
      "metadata": {
        "colab": {
          "base_uri": "https://localhost:8080/"
        },
        "id": "WsMEK0tr0Oul",
        "outputId": "926774f9-9f40-4f25-adf8-f1a438a028c2"
      },
      "source": [
        "a = {3,2,3,5}\r\n",
        "a"
      ],
      "execution_count": 71,
      "outputs": [
        {
          "output_type": "execute_result",
          "data": {
            "text/plain": [
              "{2, 3, 5}"
            ]
          },
          "metadata": {
            "tags": []
          },
          "execution_count": 71
        }
      ]
    },
    {
      "cell_type": "markdown",
      "metadata": {
        "id": "-lufe8dd0h83"
      },
      "source": [
        "p.111 시퀀스"
      ]
    },
    {
      "cell_type": "code",
      "metadata": {
        "colab": {
          "base_uri": "https://localhost:8080/"
        },
        "id": "QR_k-LDU0Oxl",
        "outputId": "9d30fe21-e116-4952-8762-446c12e0403f"
      },
      "source": [
        "a = 'abc'\r\n",
        "a = 'def'\r\n",
        "type(a)"
      ],
      "execution_count": 73,
      "outputs": [
        {
          "output_type": "execute_result",
          "data": {
            "text/plain": [
              "str"
            ]
          },
          "metadata": {
            "tags": []
          },
          "execution_count": 73
        }
      ]
    },
    {
      "cell_type": "code",
      "metadata": {
        "colab": {
          "base_uri": "https://localhost:8080/"
        },
        "id": "DkzreWsW0sPc",
        "outputId": "7f7a1f7e-31ed-49e5-eb48-a818d3d2e98c"
      },
      "source": [
        "a = 'abc'\r\n",
        "id('abc')"
      ],
      "execution_count": 74,
      "outputs": [
        {
          "output_type": "execute_result",
          "data": {
            "text/plain": [
              "139786235616368"
            ]
          },
          "metadata": {
            "tags": []
          },
          "execution_count": 74
        }
      ]
    },
    {
      "cell_type": "code",
      "metadata": {
        "colab": {
          "base_uri": "https://localhost:8080/"
        },
        "id": "CtLM3D3i0sTy",
        "outputId": "f71ed7cb-5059-44d9-ce19-ff0b6e61d639"
      },
      "source": [
        "id(a)"
      ],
      "execution_count": 75,
      "outputs": [
        {
          "output_type": "execute_result",
          "data": {
            "text/plain": [
              "139786235616368"
            ]
          },
          "metadata": {
            "tags": []
          },
          "execution_count": 75
        }
      ]
    },
    {
      "cell_type": "code",
      "metadata": {
        "colab": {
          "base_uri": "https://localhost:8080/"
        },
        "id": "StZWsxYc0sX4",
        "outputId": "d2357c11-a78d-430c-d55d-f030b5420ec0"
      },
      "source": [
        "a = 'def'\r\n",
        "id('def')"
      ],
      "execution_count": 76,
      "outputs": [
        {
          "output_type": "execute_result",
          "data": {
            "text/plain": [
              "139786234760944"
            ]
          },
          "metadata": {
            "tags": []
          },
          "execution_count": 76
        }
      ]
    },
    {
      "cell_type": "code",
      "metadata": {
        "colab": {
          "base_uri": "https://localhost:8080/"
        },
        "id": "CKPu9BoW0sb7",
        "outputId": "dbe5dec0-1c00-45c5-bddc-68edfe00b1ac"
      },
      "source": [
        "id(a)"
      ],
      "execution_count": 77,
      "outputs": [
        {
          "output_type": "execute_result",
          "data": {
            "text/plain": [
              "139786234760944"
            ]
          },
          "metadata": {
            "tags": []
          },
          "execution_count": 77
        }
      ]
    },
    {
      "cell_type": "code",
      "metadata": {
        "id": "lKWH7BGL0seQ"
      },
      "source": [
        "a[1] = 'd'\r\n",
        "#str은 변경할 수 없고 불변변"
      ],
      "execution_count": null,
      "outputs": []
    },
    {
      "cell_type": "markdown",
      "metadata": {
        "id": "boArJet_1D5Q"
      },
      "source": [
        "p.116 불변객체"
      ]
    },
    {
      "cell_type": "code",
      "metadata": {
        "colab": {
          "base_uri": "https://localhost:8080/"
        },
        "id": "TBIHR3U00sht",
        "outputId": "810d8675-9901-42ff-81a4-3fcb0011c7bb"
      },
      "source": [
        "10\r\n",
        "a = 10\r\n",
        "b = a\r\n",
        "id(10), id(a), id(b)"
      ],
      "execution_count": 78,
      "outputs": [
        {
          "output_type": "execute_result",
          "data": {
            "text/plain": [
              "(94729560234784, 94729560234784, 94729560234784)"
            ]
          },
          "metadata": {
            "tags": []
          },
          "execution_count": 78
        }
      ]
    },
    {
      "cell_type": "markdown",
      "metadata": {
        "id": "W01mMFg01K19"
      },
      "source": [
        "p.116~117 가변 객체체"
      ]
    },
    {
      "cell_type": "code",
      "metadata": {
        "colab": {
          "base_uri": "https://localhost:8080/"
        },
        "id": "m5iFc5IL0skj",
        "outputId": "382dcd5c-30a9-4ac8-bd2d-9ae2a6293a59"
      },
      "source": [
        "a = [1, 2, 3, 4, 5]\r\n",
        "b = a\r\n",
        "b"
      ],
      "execution_count": 79,
      "outputs": [
        {
          "output_type": "execute_result",
          "data": {
            "text/plain": [
              "[1, 2, 3, 4, 5]"
            ]
          },
          "metadata": {
            "tags": []
          },
          "execution_count": 79
        }
      ]
    },
    {
      "cell_type": "code",
      "metadata": {
        "colab": {
          "base_uri": "https://localhost:8080/"
        },
        "id": "RZ1AvnMX0sob",
        "outputId": "9e49a6c1-31ad-4020-ab2c-6a521b3e9455"
      },
      "source": [
        "a[2] = 4\r\n",
        "a"
      ],
      "execution_count": 80,
      "outputs": [
        {
          "output_type": "execute_result",
          "data": {
            "text/plain": [
              "[1, 2, 4, 4, 5]"
            ]
          },
          "metadata": {
            "tags": []
          },
          "execution_count": 80
        }
      ]
    },
    {
      "cell_type": "code",
      "metadata": {
        "colab": {
          "base_uri": "https://localhost:8080/"
        },
        "id": "EY6Acqvt1Spg",
        "outputId": "453baac1-c38c-42e1-f54b-11ff5055b477"
      },
      "source": [
        "b"
      ],
      "execution_count": 81,
      "outputs": [
        {
          "output_type": "execute_result",
          "data": {
            "text/plain": [
              "[1, 2, 4, 4, 5]"
            ]
          },
          "metadata": {
            "tags": []
          },
          "execution_count": 81
        }
      ]
    },
    {
      "cell_type": "markdown",
      "metadata": {
        "id": "2BJw2tBs1V2h"
      },
      "source": [
        "p.118 is와 =="
      ]
    },
    {
      "cell_type": "code",
      "metadata": {
        "id": "RJ2J7OM31Yrh"
      },
      "source": [
        "if a is None:\r\n",
        "    pass"
      ],
      "execution_count": 83,
      "outputs": []
    },
    {
      "cell_type": "code",
      "metadata": {
        "colab": {
          "base_uri": "https://localhost:8080/"
        },
        "id": "fcxg0ylv1Yvn",
        "outputId": "3db0d2d2-f449-46b8-a8e9-9c89cd3bd8b2"
      },
      "source": [
        "a = [1, 2, 3]\r\n",
        "a == a"
      ],
      "execution_count": 84,
      "outputs": [
        {
          "output_type": "execute_result",
          "data": {
            "text/plain": [
              "True"
            ]
          },
          "metadata": {
            "tags": []
          },
          "execution_count": 84
        }
      ]
    },
    {
      "cell_type": "code",
      "metadata": {
        "colab": {
          "base_uri": "https://localhost:8080/"
        },
        "id": "lTStt08L1Yza",
        "outputId": "10f9d49a-a14a-4af7-e517-3177ca5f3d52"
      },
      "source": [
        "a == list(a)"
      ],
      "execution_count": 85,
      "outputs": [
        {
          "output_type": "execute_result",
          "data": {
            "text/plain": [
              "True"
            ]
          },
          "metadata": {
            "tags": []
          },
          "execution_count": 85
        }
      ]
    },
    {
      "cell_type": "code",
      "metadata": {
        "colab": {
          "base_uri": "https://localhost:8080/"
        },
        "id": "HohexYAD1Y3J",
        "outputId": "2beb0f30-1d90-4686-9742-bffc1e0e6f53"
      },
      "source": [
        "a is a"
      ],
      "execution_count": 86,
      "outputs": [
        {
          "output_type": "execute_result",
          "data": {
            "text/plain": [
              "True"
            ]
          },
          "metadata": {
            "tags": []
          },
          "execution_count": 86
        }
      ]
    },
    {
      "cell_type": "code",
      "metadata": {
        "colab": {
          "base_uri": "https://localhost:8080/"
        },
        "id": "2tODf_H21Y6O",
        "outputId": "c3c92eef-baf9-450f-ecae-a702882d2b84"
      },
      "source": [
        "a is list(a)\r\n",
        "#별도의 객체가 된다"
      ],
      "execution_count": 87,
      "outputs": [
        {
          "output_type": "execute_result",
          "data": {
            "text/plain": [
              "False"
            ]
          },
          "metadata": {
            "tags": []
          },
          "execution_count": 87
        }
      ]
    },
    {
      "cell_type": "code",
      "metadata": {
        "id": "pyFu9By21Y9Y"
      },
      "source": [
        "a = [1,2,3]\r\n",
        "a == copy.deepcopy(a)\r\n",
        "#True"
      ],
      "execution_count": null,
      "outputs": []
    },
    {
      "cell_type": "code",
      "metadata": {
        "id": "1EIrCX7A1nub"
      },
      "source": [
        "a is copy.deepcopy(a)\r\n",
        "#False\r\n"
      ],
      "execution_count": null,
      "outputs": []
    }
  ]
}