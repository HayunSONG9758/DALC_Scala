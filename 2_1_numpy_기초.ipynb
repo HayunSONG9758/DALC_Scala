{
  "nbformat": 4,
  "nbformat_minor": 0,
  "metadata": {
    "colab": {
      "name": "2-1 numpy 기초",
      "provenance": [],
      "authorship_tag": "ABX9TyP1VmRCJ8UJ/qZjFiwLHmat",
      "include_colab_link": true
    },
    "kernelspec": {
      "name": "python3",
      "display_name": "Python 3"
    },
    "language_info": {
      "name": "python"
    }
  },
  "cells": [
    {
      "cell_type": "markdown",
      "metadata": {
        "id": "view-in-github",
        "colab_type": "text"
      },
      "source": [
        "<a href=\"https://colab.research.google.com/github/HayunSONG9758/DALC_Scala/blob/main/2_1_numpy_%EA%B8%B0%EC%B4%88.ipynb\" target=\"_parent\"><img src=\"https://colab.research.google.com/assets/colab-badge.svg\" alt=\"Open In Colab\"/></a>"
      ]
    },
    {
      "cell_type": "markdown",
      "metadata": {
        "id": "ohFWCRssb7LW"
      },
      "source": [
        "Numpy = Numerical Python\n",
        "- 기본적으로 array 단위로 데이터 관리 및 연산 수행\n",
        "- array : 동일한 데이터 타입을 갖는 벡터나 행렬"
      ]
    },
    {
      "cell_type": "code",
      "metadata": {
        "id": "nC7ej6vG8PjK"
      },
      "source": [
        "import numpy as np"
      ],
      "execution_count": 2,
      "outputs": []
    },
    {
      "cell_type": "code",
      "metadata": {
        "colab": {
          "base_uri": "https://localhost:8080/"
        },
        "id": "EvfR7jnfcUOa",
        "outputId": "74726d4d-339d-4b2e-b547-e0b2ee9636e1"
      },
      "source": [
        "data1 = [1,2,3,4,5]\n",
        "data2 = [6,5,4,3,2,1]\n",
        "print(data1, data2)"
      ],
      "execution_count": 4,
      "outputs": [
        {
          "output_type": "stream",
          "text": [
            "[1, 2, 3, 4, 5] [6, 5, 4, 3, 2, 1]\n"
          ],
          "name": "stdout"
        }
      ]
    },
    {
      "cell_type": "code",
      "metadata": {
        "colab": {
          "base_uri": "https://localhost:8080/"
        },
        "id": "yfmt4KCWcUUS",
        "outputId": "86a48dcf-7216-47ce-ec5d-e02555260716"
      },
      "source": [
        "ar1 = np.array(data1) #ar1에 numpy배열을 만들어 할당\n",
        "ar1"
      ],
      "execution_count": null,
      "outputs": [
        {
          "output_type": "execute_result",
          "data": {
            "text/plain": [
              "array([1, 2, 3, 4, 5])"
            ]
          },
          "metadata": {
            "tags": []
          },
          "execution_count": 4
        }
      ]
    },
    {
      "cell_type": "code",
      "metadata": {
        "colab": {
          "base_uri": "https://localhost:8080/"
        },
        "id": "XeB7gUOzcUXo",
        "outputId": "c3e573a6-ac12-4ab3-8224-b473d8f2c881"
      },
      "source": [
        "#배열의 데이터 타입 지정\n",
        "\n",
        "ar2 = np.array(data1, dtype = 'float32') #원래 data1은 정수요솟값이었으나, float32 = 실수 요솟값 사용함 \n",
        "ar2 # 실수 데이터 갖는 배열 만들어짐"
      ],
      "execution_count": null,
      "outputs": [
        {
          "output_type": "execute_result",
          "data": {
            "text/plain": [
              "array([1., 2., 3., 4., 5.], dtype=float32)"
            ]
          },
          "metadata": {
            "tags": []
          },
          "execution_count": 5
        }
      ]
    },
    {
      "cell_type": "code",
      "metadata": {
        "colab": {
          "base_uri": "https://localhost:8080/"
        },
        "id": "sZPctosdcUa_",
        "outputId": "9c212338-99a2-4b60-8c8e-4f5898471d2c"
      },
      "source": [
        "# 다차원 배열 구성 다차원 배열 구성\n",
        "ar3 = np.array([range(i, i+3) for i in data1])\n",
        "ar3"
      ],
      "execution_count": 5,
      "outputs": [
        {
          "output_type": "execute_result",
          "data": {
            "text/plain": [
              "array([[1, 2, 3],\n",
              "       [2, 3, 4],\n",
              "       [3, 4, 5],\n",
              "       [4, 5, 6],\n",
              "       [5, 6, 7]])"
            ]
          },
          "metadata": {
            "tags": []
          },
          "execution_count": 5
        }
      ]
    },
    {
      "cell_type": "code",
      "metadata": {
        "colab": {
          "base_uri": "https://localhost:8080/"
        },
        "id": "Wdjs-iFbcUea",
        "outputId": "9e85d573-1a9e-48ff-d810-5b0260f7a257"
      },
      "source": [
        "ar4 = np.full((3,5), 3.14) #full함수((행렬 크기), 지정값r4 = np.full((3,5), 3.14) #full함수((행렬 크기), 지정값)\n",
        "ar4"
      ],
      "execution_count": null,
      "outputs": [
        {
          "output_type": "execute_result",
          "data": {
            "text/plain": [
              "array([[3.14, 3.14, 3.14, 3.14, 3.14],\n",
              "       [3.14, 3.14, 3.14, 3.14, 3.14],\n",
              "       [3.14, 3.14, 3.14, 3.14, 3.14]])"
            ]
          },
          "metadata": {
            "tags": []
          },
          "execution_count": 8
        }
      ]
    },
    {
      "cell_type": "code",
      "metadata": {
        "colab": {
          "base_uri": "https://localhost:8080/"
        },
        "id": "YqoFn-IaexeM",
        "outputId": "689a29c8-3cc2-46bc-90f6-5fb724dfa38e"
      },
      "source": [
        "ar5 = np.arange(0, 20, 2) # 20은 포함되지 않음 arange() = py.range() (완전 같은건 아니고 비슷...)\n",
        "ar5"
      ],
      "execution_count": null,
      "outputs": [
        {
          "output_type": "execute_result",
          "data": {
            "text/plain": [
              "array([ 0,  2,  4,  6,  8, 10, 12, 14, 16, 18])"
            ]
          },
          "metadata": {
            "tags": []
          },
          "execution_count": 9
        }
      ]
    },
    {
      "cell_type": "code",
      "metadata": {
        "id": "4smUhPivcUhe",
        "colab": {
          "base_uri": "https://localhost:8080/"
        },
        "outputId": "4e8e7930-c7b4-423d-ccf1-96032edbdf80"
      },
      "source": [
        "# linspace 함수\n",
        "ar6 = np.linspace(0,1,3) #0과 1 사이에 (0.5간격의) 3개 요소값을 가진 배열 생성\n",
        "ar6"
      ],
      "execution_count": 6,
      "outputs": [
        {
          "output_type": "execute_result",
          "data": {
            "text/plain": [
              "array([0. , 0.5, 1. ])"
            ]
          },
          "metadata": {
            "tags": []
          },
          "execution_count": 6
        }
      ]
    },
    {
      "cell_type": "code",
      "metadata": {
        "id": "MrY0rYqRcUkb",
        "colab": {
          "base_uri": "https://localhost:8080/"
        },
        "outputId": "fd69f858-9192-4901-e5c5-0d7c3e07de66"
      },
      "source": [
        "#무작위 값의 배열 구성\n",
        "ar7 = np.random.random((3,3)) #3X3행렬을 생성하고, 0과 1사이의 무작위 값으로 채움\n",
        "ar7"
      ],
      "execution_count": 8,
      "outputs": [
        {
          "output_type": "execute_result",
          "data": {
            "text/plain": [
              "array([[0.33794643, 0.86565909, 0.56540531],\n",
              "       [0.38640802, 0.6049183 , 0.80647371],\n",
              "       [0.85847927, 0.17408718, 0.47370968]])"
            ]
          },
          "metadata": {
            "tags": []
          },
          "execution_count": 8
        }
      ]
    },
    {
      "cell_type": "code",
      "metadata": {
        "id": "TUVTomyGcUne",
        "colab": {
          "base_uri": "https://localhost:8080/"
        },
        "outputId": "101a6837-7fbd-4916-dad4-f22077b26178"
      },
      "source": [
        "ar8 = np.random.randint(0,100,(3,3)) # (구간의 시작, 구간의 끝,(배열 크기))\n",
        "ar8"
      ],
      "execution_count": 9,
      "outputs": [
        {
          "output_type": "execute_result",
          "data": {
            "text/plain": [
              "array([[31, 91, 29],\n",
              "       [21, 26, 76],\n",
              "       [18, 23, 81]])"
            ]
          },
          "metadata": {
            "tags": []
          },
          "execution_count": 9
        }
      ]
    },
    {
      "cell_type": "code",
      "metadata": {
        "id": "s8OBbNB3cUqk",
        "colab": {
          "base_uri": "https://localhost:8080/"
        },
        "outputId": "1216ff00-40c4-42f2-f4f6-a37a08daaf91"
      },
      "source": [
        "# eye 함수\n",
        "ar9 = np.eye(3) #대각선으로는 1이고 나머지는 0인 단위함수 만들 수 ㅇ \n",
        "ar9"
      ],
      "execution_count": 10,
      "outputs": [
        {
          "output_type": "execute_result",
          "data": {
            "text/plain": [
              "array([[1., 0., 0.],\n",
              "       [0., 1., 0.],\n",
              "       [0., 0., 1.]])"
            ]
          },
          "metadata": {
            "tags": []
          },
          "execution_count": 10
        }
      ]
    },
    {
      "cell_type": "markdown",
      "metadata": {
        "id": "fDoIEBUtUgl-"
      },
      "source": [
        "1) 배열 속성"
      ]
    },
    {
      "cell_type": "code",
      "metadata": {
        "id": "Qi38-DBHcUtv",
        "colab": {
          "base_uri": "https://localhost:8080/"
        },
        "outputId": "439ab150-a2b3-4d76-8fce-62b63addf391"
      },
      "source": [
        "import numpy as np\n",
        "x = np.random.randint(10, size =(3,4,5))\n",
        "x"
      ],
      "execution_count": 11,
      "outputs": [
        {
          "output_type": "execute_result",
          "data": {
            "text/plain": [
              "array([[[1, 6, 1, 8, 7],\n",
              "        [3, 0, 9, 0, 7],\n",
              "        [9, 0, 3, 9, 2],\n",
              "        [9, 3, 0, 3, 4]],\n",
              "\n",
              "       [[1, 3, 0, 9, 1],\n",
              "        [5, 9, 8, 3, 7],\n",
              "        [9, 5, 4, 8, 4],\n",
              "        [1, 1, 0, 6, 8]],\n",
              "\n",
              "       [[7, 2, 7, 7, 6],\n",
              "        [2, 2, 0, 3, 2],\n",
              "        [1, 7, 9, 8, 5],\n",
              "        [7, 0, 7, 8, 9]]])"
            ]
          },
          "metadata": {
            "tags": []
          },
          "execution_count": 11
        }
      ]
    },
    {
      "cell_type": "code",
      "metadata": {
        "colab": {
          "base_uri": "https://localhost:8080/"
        },
        "id": "0hS-68tOUwXj",
        "outputId": "827d6bd0-1cc3-417d-aa5d-07ce44c9049b"
      },
      "source": [
        "print(\"x ndim:\", x.ndim) #차원의 갯수\n",
        "print(\"x shape:\", x.shape) #각 차원의 크기\n",
        "print(\"x size:\", x.size) #전체 배열의 크기"
      ],
      "execution_count": 12,
      "outputs": [
        {
          "output_type": "stream",
          "text": [
            "x ndim: 3\n",
            "x shape: (3, 4, 5)\n",
            "x size: 60\n"
          ],
          "name": "stdout"
        }
      ]
    },
    {
      "cell_type": "markdown",
      "metadata": {
        "id": "xO5Lgn7EVNUz"
      },
      "source": [
        "2) 배열 인덱싱"
      ]
    },
    {
      "cell_type": "code",
      "metadata": {
        "colab": {
          "base_uri": "https://localhost:8080/"
        },
        "id": "AvnpZqOaUwa2",
        "outputId": "54812d6f-8395-4194-b7d1-64afe68c2441"
      },
      "source": [
        "y = np.array([2,4,6,8,10]) #리스트 인덱싱과 유사함\n",
        "print(y[0], y[-2]) #음수 인덱스는 배열 가장 끝에서..."
      ],
      "execution_count": 13,
      "outputs": [
        {
          "output_type": "stream",
          "text": [
            "2 8\n"
          ],
          "name": "stdout"
        }
      ]
    },
    {
      "cell_type": "code",
      "metadata": {
        "colab": {
          "base_uri": "https://localhost:8080/"
        },
        "id": "9RMqolTFUwdT",
        "outputId": "1ef0eff3-ca9b-4a94-d916-c4660972225e"
      },
      "source": [
        "z = np.array([[2,4,6,8,10], [3,6,9,12,15]])\n",
        "print(z[1,0])"
      ],
      "execution_count": 14,
      "outputs": [
        {
          "output_type": "stream",
          "text": [
            "3\n"
          ],
          "name": "stdout"
        }
      ]
    },
    {
      "cell_type": "code",
      "metadata": {
        "colab": {
          "base_uri": "https://localhost:8080/"
        },
        "id": "E-KJQfz1Uwf9",
        "outputId": "9c74d8e6-bc43-42b7-c567-6271e95d7bb2"
      },
      "source": [
        "z[0,0]=12 # 해당 위치의 요소값을 2-> 12로 변경\n",
        "z"
      ],
      "execution_count": 15,
      "outputs": [
        {
          "output_type": "execute_result",
          "data": {
            "text/plain": [
              "array([[12,  4,  6,  8, 10],\n",
              "       [ 3,  6,  9, 12, 15]])"
            ]
          },
          "metadata": {
            "tags": []
          },
          "execution_count": 15
        }
      ]
    },
    {
      "cell_type": "markdown",
      "metadata": {
        "id": "uy0JkcX5V_YE"
      },
      "source": [
        "4) 배열 슬라이싱"
      ]
    },
    {
      "cell_type": "code",
      "metadata": {
        "id": "m2FTA-YFUwiy"
      },
      "source": [
        "x[start:stop:step]\n",
        "# start는 0으로 설정\n",
        "# stop은 차원 크기로 설정\n",
        "# step은 1로 설정"
      ],
      "execution_count": null,
      "outputs": []
    },
    {
      "cell_type": "code",
      "metadata": {
        "colab": {
          "base_uri": "https://localhost:8080/"
        },
        "id": "iNb2xfe5UwmA",
        "outputId": "f7f26bd1-e017-4ce7-91e2-7efe5f205bf4"
      },
      "source": [
        "x = np.arange(10)\n",
        "x[4:8]"
      ],
      "execution_count": 16,
      "outputs": [
        {
          "output_type": "execute_result",
          "data": {
            "text/plain": [
              "array([4, 5, 6, 7])"
            ]
          },
          "metadata": {
            "tags": []
          },
          "execution_count": 16
        }
      ]
    },
    {
      "cell_type": "code",
      "metadata": {
        "colab": {
          "base_uri": "https://localhost:8080/"
        },
        "id": "2jc8r-aoUwo1",
        "outputId": "cf14cd8c-9360-4671-c053-d31539ff7048"
      },
      "source": [
        "x = np.arange(10)\n",
        "x[:5]"
      ],
      "execution_count": 17,
      "outputs": [
        {
          "output_type": "execute_result",
          "data": {
            "text/plain": [
              "array([0, 1, 2, 3, 4])"
            ]
          },
          "metadata": {
            "tags": []
          },
          "execution_count": 17
        }
      ]
    },
    {
      "cell_type": "code",
      "metadata": {
        "colab": {
          "base_uri": "https://localhost:8080/"
        },
        "id": "JceDiJjiUwrB",
        "outputId": "6330eddf-bf81-4b0e-8437-b504198ff336"
      },
      "source": [
        "x = np.arange(10)\n",
        "x[5:] # 인덱스 5 이후의 요소를 가진"
      ],
      "execution_count": 18,
      "outputs": [
        {
          "output_type": "execute_result",
          "data": {
            "text/plain": [
              "array([5, 6, 7, 8, 9])"
            ]
          },
          "metadata": {
            "tags": []
          },
          "execution_count": 18
        }
      ]
    },
    {
      "cell_type": "markdown",
      "metadata": {
        "id": "3tAj97T9WrEl"
      },
      "source": [
        "5) 다차원 배열 슬라이싱"
      ]
    },
    {
      "cell_type": "code",
      "metadata": {
        "colab": {
          "base_uri": "https://localhost:8080/"
        },
        "id": "RB7JugvRWsij",
        "outputId": "c539b437-cbd9-4623-b298-cac1908cd2d7"
      },
      "source": [
        "z = np.array([[2,4,6,8], [3,6,9,12], [4,8,12,16]])\n",
        "z[:2, :3] #인덱스 0,1행과 인덱스 0,1,2열로 구성되는 다차원 하위배열 생성"
      ],
      "execution_count": 19,
      "outputs": [
        {
          "output_type": "execute_result",
          "data": {
            "text/plain": [
              "array([[2, 4, 6],\n",
              "       [3, 6, 9]])"
            ]
          },
          "metadata": {
            "tags": []
          },
          "execution_count": 19
        }
      ]
    },
    {
      "cell_type": "code",
      "metadata": {
        "colab": {
          "base_uri": "https://localhost:8080/"
        },
        "id": "2iZ-MFCuW7i4",
        "outputId": "7c09cad8-05d3-430c-8df9-acbaeb26b77f"
      },
      "source": [
        "z = np.array([[2,4,6,8], [3,6,9,12], [4,8,12,16]])\n",
        "z[:3, ::2] #모든 행마다 한 열씩 걸러 구성된 다차원 하위배열 형성"
      ],
      "execution_count": 20,
      "outputs": [
        {
          "output_type": "execute_result",
          "data": {
            "text/plain": [
              "array([[ 2,  6],\n",
              "       [ 3,  9],\n",
              "       [ 4, 12]])"
            ]
          },
          "metadata": {
            "tags": []
          },
          "execution_count": 20
        }
      ]
    },
    {
      "cell_type": "markdown",
      "metadata": {
        "id": "oPXlImJUXYKt"
      },
      "source": [
        "6) 배열 재구조화"
      ]
    },
    {
      "cell_type": "code",
      "metadata": {
        "colab": {
          "base_uri": "https://localhost:8080/"
        },
        "id": "m743-grOW7ls",
        "outputId": "1e128b99-81e2-430d-c73c-7a887032d00d"
      },
      "source": [
        "#reshape 함수 : 배열의 형상을 변경하는 것\n",
        "z = np.arange(1, 10).reshape(3, 3) #3X3 행렬에 숫자 1~9까지 넣고싶을 경우\n",
        "z"
      ],
      "execution_count": 21,
      "outputs": [
        {
          "output_type": "execute_result",
          "data": {
            "text/plain": [
              "array([[1, 2, 3],\n",
              "       [4, 5, 6],\n",
              "       [7, 8, 9]])"
            ]
          },
          "metadata": {
            "tags": []
          },
          "execution_count": 21
        }
      ]
    },
    {
      "cell_type": "markdown",
      "metadata": {
        "id": "qT5tk3xPXrug"
      },
      "source": [
        "7) 배열 결합"
      ]
    },
    {
      "cell_type": "code",
      "metadata": {
        "colab": {
          "base_uri": "https://localhost:8080/"
        },
        "id": "vBUozQ8xW7o2",
        "outputId": "a995c7ee-d13b-4ab5-c862-49ae72afec46"
      },
      "source": [
        "#concatenate\n",
        "x = np.array([1,2,3])\n",
        "y = np.array([3,2,1])\n",
        "z = np.concatenate([x,y])\n",
        "z"
      ],
      "execution_count": 22,
      "outputs": [
        {
          "output_type": "execute_result",
          "data": {
            "text/plain": [
              "array([1, 2, 3, 3, 2, 1])"
            ]
          },
          "metadata": {
            "tags": []
          },
          "execution_count": 22
        }
      ]
    },
    {
      "cell_type": "code",
      "metadata": {
        "colab": {
          "base_uri": "https://localhost:8080/"
        },
        "id": "5qrdLR1iW7su",
        "outputId": "0af86889-8ccb-4b53-c4e5-8efae4040db8"
      },
      "source": [
        "#vstack 수직 스택\n",
        "x = np.array([1,2,3])\n",
        "grid = np.array([[4,5,6],[7,8,9]])\n",
        "v = np.vstack([x, grid]) #수직으로 하나로 합침\n",
        "v"
      ],
      "execution_count": 23,
      "outputs": [
        {
          "output_type": "execute_result",
          "data": {
            "text/plain": [
              "array([[1, 2, 3],\n",
              "       [4, 5, 6],\n",
              "       [7, 8, 9]])"
            ]
          },
          "metadata": {
            "tags": []
          },
          "execution_count": 23
        }
      ]
    },
    {
      "cell_type": "code",
      "metadata": {
        "colab": {
          "base_uri": "https://localhost:8080/"
        },
        "id": "HF0t4-7yW7ve",
        "outputId": "1e0cbb59-e8ec-4ab3-d26c-0efa8e54fb9e"
      },
      "source": [
        "#hstack 수평 스택\n",
        "y = np.array([[99],[[99]]])\n",
        "z = np.hstack([grid, y])\n",
        "z"
      ],
      "execution_count": 28,
      "outputs": [
        {
          "output_type": "stream",
          "text": [
            "/usr/local/lib/python3.7/dist-packages/ipykernel_launcher.py:2: VisibleDeprecationWarning: Creating an ndarray from ragged nested sequences (which is a list-or-tuple of lists-or-tuples-or ndarrays with different lengths or shapes) is deprecated. If you meant to do this, you must specify 'dtype=object' when creating the ndarray\n",
            "  \n"
          ],
          "name": "stderr"
        },
        {
          "output_type": "execute_result",
          "data": {
            "text/plain": [
              "array([[4, 5, 6, 99],\n",
              "       [7, 8, 9, list([99])]], dtype=object)"
            ]
          },
          "metadata": {
            "tags": []
          },
          "execution_count": 28
        }
      ]
    },
    {
      "cell_type": "markdown",
      "metadata": {
        "id": "6ZJgqa5NY6yl"
      },
      "source": [
        "8) 배열 분할"
      ]
    },
    {
      "cell_type": "code",
      "metadata": {
        "colab": {
          "base_uri": "https://localhost:8080/"
        },
        "id": "KbBLii4YW7yJ",
        "outputId": "bccf5d4c-a820-474b-ad1f-5f1b7ceeea37"
      },
      "source": [
        "#split\n",
        "x = [1,2,3,77,77,3,2,1]\n",
        "x1,x2,x3 = np.split(x,[3,5]) #split(분할 대상 리스트, 분할 위치)\n",
        "print(x1,x2,x3)"
      ],
      "execution_count": 29,
      "outputs": [
        {
          "output_type": "stream",
          "text": [
            "[1 2 3] [77 77] [3 2 1]\n"
          ],
          "name": "stdout"
        }
      ]
    },
    {
      "cell_type": "code",
      "metadata": {
        "colab": {
          "base_uri": "https://localhost:8080/"
        },
        "id": "Y7lQXGb4Y_Zj",
        "outputId": "49dd8e53-26c3-4c14-c411-36014634a074"
      },
      "source": [
        "#vsplit\n",
        "grid = np.arange(16).reshape((4,4))\n",
        "upper, lower = np.vsplit(grid, [2]) #grid 배열이 상하 2개로 나뉨\n",
        "print(upper)\n",
        "print(lower)"
      ],
      "execution_count": 30,
      "outputs": [
        {
          "output_type": "stream",
          "text": [
            "[[0 1 2 3]\n",
            " [4 5 6 7]]\n",
            "[[ 8  9 10 11]\n",
            " [12 13 14 15]]\n"
          ],
          "name": "stdout"
        }
      ]
    },
    {
      "cell_type": "code",
      "metadata": {
        "colab": {
          "base_uri": "https://localhost:8080/"
        },
        "id": "40syVvXuY_cW",
        "outputId": "e0a80a74-d01d-450f-e507-3e81e82b4a8e"
      },
      "source": [
        "#hsplit\n",
        "grid = np.arange(16).reshape((4,4))\n",
        "left, right = np.hsplit(grid, [2]) #grid 배열이 좌우 2개로 나뉨\n",
        "print(left)\n",
        "print(right)"
      ],
      "execution_count": 32,
      "outputs": [
        {
          "output_type": "stream",
          "text": [
            "[[ 0  1]\n",
            " [ 4  5]\n",
            " [ 8  9]\n",
            " [12 13]]\n",
            "[[ 2  3]\n",
            " [ 6  7]\n",
            " [10 11]\n",
            " [14 15]]\n"
          ],
          "name": "stdout"
        }
      ]
    },
    {
      "cell_type": "code",
      "metadata": {
        "id": "KSkFwRxQY_fK"
      },
      "source": [
        ""
      ],
      "execution_count": null,
      "outputs": []
    },
    {
      "cell_type": "code",
      "metadata": {
        "id": "8krFOjwLY_i3"
      },
      "source": [
        ""
      ],
      "execution_count": null,
      "outputs": []
    },
    {
      "cell_type": "code",
      "metadata": {
        "id": "3CTh3TuXW70Z"
      },
      "source": [
        ""
      ],
      "execution_count": null,
      "outputs": []
    }
  ]
}