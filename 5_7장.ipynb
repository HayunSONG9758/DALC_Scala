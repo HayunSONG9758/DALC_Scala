{
  "nbformat": 4,
  "nbformat_minor": 0,
  "metadata": {
    "colab": {
      "name": "5-7장.ipynb",
      "provenance": [],
      "authorship_tag": "ABX9TyNjWuPigpC5CZSExLUspwQL",
      "include_colab_link": true
    },
    "kernelspec": {
      "name": "python3",
      "display_name": "Python 3"
    },
    "language_info": {
      "name": "python"
    }
  },
  "cells": [
    {
      "cell_type": "markdown",
      "metadata": {
        "id": "view-in-github",
        "colab_type": "text"
      },
      "source": [
        "<a href=\"https://colab.research.google.com/github/HayunSONG9758/DALC_Scala/blob/main/5_7%EC%9E%A5.ipynb\" target=\"_parent\"><img src=\"https://colab.research.google.com/assets/colab-badge.svg\" alt=\"Open In Colab\"/></a>"
      ]
    },
    {
      "cell_type": "markdown",
      "metadata": {
        "id": "mp3AxSaEmYjR"
      },
      "source": [
        "5장 리스트, 딕셔너리"
      ]
    },
    {
      "cell_type": "code",
      "metadata": {
        "id": "Q0th31RJmViC"
      },
      "source": [
        "#리스트 선언방법\n",
        "a = list()\n",
        "a = []"
      ],
      "execution_count": null,
      "outputs": []
    },
    {
      "cell_type": "code",
      "metadata": {
        "colab": {
          "base_uri": "https://localhost:8080/"
        },
        "id": "QyM-LdJmmuTq",
        "outputId": "3a5e7a7c-f89c-41e4-9619-34595b95ec6a"
      },
      "source": [
        "a = [1,2,3]\n",
        "a"
      ],
      "execution_count": null,
      "outputs": [
        {
          "output_type": "execute_result",
          "data": {
            "text/plain": [
              "[1, 2, 3]"
            ]
          },
          "metadata": {
            "tags": []
          },
          "execution_count": 58
        }
      ]
    },
    {
      "cell_type": "code",
      "metadata": {
        "colab": {
          "base_uri": "https://localhost:8080/"
        },
        "id": "Pak9GAoZmrtL",
        "outputId": "d4afa50f-311e-45f3-8c89-753a8263532b"
      },
      "source": [
        "#값 추가할 때 append()\n",
        "a.append(4)\n",
        "a"
      ],
      "execution_count": null,
      "outputs": [
        {
          "output_type": "execute_result",
          "data": {
            "text/plain": [
              "[1, 2, 3, 4]"
            ]
          },
          "metadata": {
            "tags": []
          },
          "execution_count": 59
        }
      ]
    },
    {
      "cell_type": "code",
      "metadata": {
        "colab": {
          "base_uri": "https://localhost:8080/"
        },
        "id": "8Ea1qJpVmsYi",
        "outputId": "c041ea89-e0fa-4721-eff0-39c23ae99559"
      },
      "source": [
        "# insert() : 특정 위치의 인덱스를 지정해 요소 추가가능\n",
        "a.insert(3,5) # 3번째 인덱스에 5 삽입\n",
        "a"
      ],
      "execution_count": null,
      "outputs": [
        {
          "output_type": "execute_result",
          "data": {
            "text/plain": [
              "[1, 2, 3, 5, 4]"
            ]
          },
          "metadata": {
            "tags": []
          },
          "execution_count": 60
        }
      ]
    },
    {
      "cell_type": "code",
      "metadata": {
        "colab": {
          "base_uri": "https://localhost:8080/"
        },
        "id": "OqLDL_6KmscS",
        "outputId": "98836dc2-dded-4f42-ed15-75eeba108208"
      },
      "source": [
        "a.append('안녕')\n",
        "a.append(True)\n",
        "a\n",
        "\n",
        "# 리스트는 숫자 외에도 문자와 불리언을 자유롭게 삽입 가능하다"
      ],
      "execution_count": null,
      "outputs": [
        {
          "output_type": "execute_result",
          "data": {
            "text/plain": [
              "[1, 2, 3, 5, 4, '안녕', True]"
            ]
          },
          "metadata": {
            "tags": []
          },
          "execution_count": 61
        }
      ]
    },
    {
      "cell_type": "code",
      "metadata": {
        "colab": {
          "base_uri": "https://localhost:8080/"
        },
        "id": "N5PnZ1VEmsgp",
        "outputId": "6d5365a1-5605-462b-b77a-e4a6c470d699"
      },
      "source": [
        "a[3] # 값 꺼내올때는 인덱스 사용"
      ],
      "execution_count": null,
      "outputs": [
        {
          "output_type": "execute_result",
          "data": {
            "text/plain": [
              "5"
            ]
          },
          "metadata": {
            "tags": []
          },
          "execution_count": 25
        }
      ]
    },
    {
      "cell_type": "code",
      "metadata": {
        "colab": {
          "base_uri": "https://localhost:8080/"
        },
        "id": "XlQwhdh9mskL",
        "outputId": "02334650-6e24-481b-d767-ad747b0cb019"
      },
      "source": [
        "# 슬라이싱\n",
        "a[1:3] # 인덱스 1에서 인덱스 3 이전까지의 값"
      ],
      "execution_count": null,
      "outputs": [
        {
          "output_type": "execute_result",
          "data": {
            "text/plain": [
              "[2, 3]"
            ]
          },
          "metadata": {
            "tags": []
          },
          "execution_count": 26
        }
      ]
    },
    {
      "cell_type": "code",
      "metadata": {
        "colab": {
          "base_uri": "https://localhost:8080/"
        },
        "id": "rw7cDXtKmsn9",
        "outputId": "32fec69e-6ade-46fc-da94-b1e5ffbc8def"
      },
      "source": [
        "a[:3] # 시작 인덱스 생략가능"
      ],
      "execution_count": null,
      "outputs": [
        {
          "output_type": "execute_result",
          "data": {
            "text/plain": [
              "[1, 2, 3]"
            ]
          },
          "metadata": {
            "tags": []
          },
          "execution_count": 27
        }
      ]
    },
    {
      "cell_type": "code",
      "metadata": {
        "colab": {
          "base_uri": "https://localhost:8080/"
        },
        "id": "j_LCgEdWmsu_",
        "outputId": "b4112837-2358-45da-9df0-61fd6458c647"
      },
      "source": [
        "a[4:] # 종료인덱스도 생략가능"
      ],
      "execution_count": null,
      "outputs": [
        {
          "output_type": "execute_result",
          "data": {
            "text/plain": [
              "[4, '안녕', True]"
            ]
          },
          "metadata": {
            "tags": []
          },
          "execution_count": 28
        }
      ]
    },
    {
      "cell_type": "code",
      "metadata": {
        "colab": {
          "base_uri": "https://localhost:8080/"
        },
        "id": "T2d0z7ANmsrX",
        "outputId": "b86e8d69-35be-4c5f-c89b-8d794cf3ea0a"
      },
      "source": [
        "a[1:4]"
      ],
      "execution_count": null,
      "outputs": [
        {
          "output_type": "execute_result",
          "data": {
            "text/plain": [
              "[2, 3, 5]"
            ]
          },
          "metadata": {
            "tags": []
          },
          "execution_count": 29
        }
      ]
    },
    {
      "cell_type": "code",
      "metadata": {
        "colab": {
          "base_uri": "https://localhost:8080/"
        },
        "id": "bXQyN7NxpI-D",
        "outputId": "d14481b9-ca5f-4b87-bc6c-890b88d6eeba"
      },
      "source": [
        "a[1:4:2] # 3번째 파라미터 : 단계의 의미로, 여기서 2 : 두칸씩 건너뛰게 된다"
      ],
      "execution_count": null,
      "outputs": [
        {
          "output_type": "execute_result",
          "data": {
            "text/plain": [
              "[2, 5]"
            ]
          },
          "metadata": {
            "tags": []
          },
          "execution_count": 30
        }
      ]
    },
    {
      "cell_type": "code",
      "metadata": {
        "colab": {
          "base_uri": "https://localhost:8080/",
          "height": 176
        },
        "id": "H4zZNeLvpJB_",
        "outputId": "c452cff7-9870-4d8b-f4ce-271798d3256b"
      },
      "source": [
        "a[9] # 존재하지 않는 인덱스를 조회할 경우 : IndexError 발생"
      ],
      "execution_count": null,
      "outputs": [
        {
          "output_type": "error",
          "ename": "IndexError",
          "evalue": "ignored",
          "traceback": [
            "\u001b[0;31m---------------------------------------------------------------------------\u001b[0m",
            "\u001b[0;31mIndexError\u001b[0m                                Traceback (most recent call last)",
            "\u001b[0;32m<ipython-input-33-a53c7b6c7699>\u001b[0m in \u001b[0;36m<module>\u001b[0;34m()\u001b[0m\n\u001b[0;32m----> 1\u001b[0;31m \u001b[0ma\u001b[0m\u001b[0;34m[\u001b[0m\u001b[0;36m9\u001b[0m\u001b[0;34m]\u001b[0m \u001b[0;31m# 존재하지 않는 인덱스를 조회할 경우 : IndexError 발생\u001b[0m\u001b[0;34m\u001b[0m\u001b[0;34m\u001b[0m\u001b[0m\n\u001b[0m",
            "\u001b[0;31mIndexError\u001b[0m: list index out of range"
          ]
        }
      ]
    },
    {
      "cell_type": "code",
      "metadata": {
        "colab": {
          "base_uri": "https://localhost:8080/"
        },
        "id": "EGGz4qeepJHO",
        "outputId": "330f6528-c667-4794-e98f-4e3ac4d7b538"
      },
      "source": [
        "try:\n",
        "  print(a[9])\n",
        "except IndexError:\n",
        "  print('존재하지 않는 인덱스')"
      ],
      "execution_count": null,
      "outputs": [
        {
          "output_type": "stream",
          "text": [
            "존재하지 않는 인덱스\n"
          ],
          "name": "stdout"
        }
      ]
    },
    {
      "cell_type": "code",
      "metadata": {
        "colab": {
          "base_uri": "https://localhost:8080/"
        },
        "id": "hM4Up5CHpJM3",
        "outputId": "cea91daf-67d5-4486-ceaa-8c0c3f9b8dbb"
      },
      "source": [
        "a"
      ],
      "execution_count": null,
      "outputs": [
        {
          "output_type": "execute_result",
          "data": {
            "text/plain": [
              "[1, 2, 3, 5, 4, '안녕', True]"
            ]
          },
          "metadata": {
            "tags": []
          },
          "execution_count": 62
        }
      ]
    },
    {
      "cell_type": "code",
      "metadata": {
        "colab": {
          "base_uri": "https://localhost:8080/"
        },
        "id": "L6xb0HlEpJRM",
        "outputId": "b34e217c-d222-4694-9bf7-afa3ca32866e"
      },
      "source": [
        "del a[1] #인덱스 삭제\n",
        "a "
      ],
      "execution_count": null,
      "outputs": [
        {
          "output_type": "execute_result",
          "data": {
            "text/plain": [
              "[1, 3, 5, 4, '안녕', True]"
            ]
          },
          "metadata": {
            "tags": []
          },
          "execution_count": 63
        }
      ]
    },
    {
      "cell_type": "code",
      "metadata": {
        "colab": {
          "base_uri": "https://localhost:8080/"
        },
        "id": "GPdUQ9C6pJVM",
        "outputId": "ffe12b4b-a51a-451d-d5ec-908f7b96ae2d"
      },
      "source": [
        "a"
      ],
      "execution_count": null,
      "outputs": [
        {
          "output_type": "execute_result",
          "data": {
            "text/plain": [
              "[1, 5, 4, '안녕', True]"
            ]
          },
          "metadata": {
            "tags": []
          },
          "execution_count": 70
        }
      ]
    },
    {
      "cell_type": "code",
      "metadata": {
        "colab": {
          "base_uri": "https://localhost:8080/"
        },
        "id": "2Hd2FseIs5Cd",
        "outputId": "a053c6b0-c0da-4a7b-ea0b-805339164145"
      },
      "source": [
        "a.insert(2,3)\n",
        "a"
      ],
      "execution_count": null,
      "outputs": [
        {
          "output_type": "execute_result",
          "data": {
            "text/plain": [
              "[1, 5, 3, 4, 2, 2, '안녕', True]"
            ]
          },
          "metadata": {
            "tags": []
          },
          "execution_count": 75
        }
      ]
    },
    {
      "cell_type": "code",
      "metadata": {
        "id": "CqFyXSS1pJaM"
      },
      "source": [
        "a.remove(3)"
      ],
      "execution_count": null,
      "outputs": []
    },
    {
      "cell_type": "code",
      "metadata": {
        "colab": {
          "base_uri": "https://localhost:8080/"
        },
        "id": "j5cFwoFatLL7",
        "outputId": "db60a485-7ece-4ec2-ffdf-c09618049271"
      },
      "source": [
        "a"
      ],
      "execution_count": null,
      "outputs": [
        {
          "output_type": "execute_result",
          "data": {
            "text/plain": [
              "[1, 5, 4, 2, 2, '안녕', True]"
            ]
          },
          "metadata": {
            "tags": []
          },
          "execution_count": 77
        }
      ]
    },
    {
      "cell_type": "code",
      "metadata": {
        "colab": {
          "base_uri": "https://localhost:8080/"
        },
        "id": "36EXLr46tWgd",
        "outputId": "2c233b93-1c73-440a-f302-fcd4520a133e"
      },
      "source": [
        "a = [1,2,3]\n",
        "a"
      ],
      "execution_count": null,
      "outputs": [
        {
          "output_type": "execute_result",
          "data": {
            "text/plain": [
              "[1, 2, 3]"
            ]
          },
          "metadata": {
            "tags": []
          },
          "execution_count": 78
        }
      ]
    },
    {
      "cell_type": "code",
      "metadata": {
        "colab": {
          "base_uri": "https://localhost:8080/"
        },
        "id": "mZ_4VAELtWk6",
        "outputId": "c46b6654-3b68-4375-923e-2d01ad920f36"
      },
      "source": [
        "a = [1,'안녕', True] # 제각기 다양한 타입을 동시에 단일 리스트에서 관리하는게 가능\n",
        "a"
      ],
      "execution_count": null,
      "outputs": [
        {
          "output_type": "execute_result",
          "data": {
            "text/plain": [
              "[1, '안녕', True]"
            ]
          },
          "metadata": {
            "tags": []
          },
          "execution_count": 79
        }
      ]
    },
    {
      "cell_type": "code",
      "metadata": {
        "id": "GLvhgVWBtWra"
      },
      "source": [
        "a = dict()\n",
        "a ={}"
      ],
      "execution_count": null,
      "outputs": []
    },
    {
      "cell_type": "code",
      "metadata": {
        "colab": {
          "base_uri": "https://localhost:8080/"
        },
        "id": "-zgDIfbCuqsT",
        "outputId": "10349a5e-858b-4034-b94a-d1dd5c0e4f20"
      },
      "source": [
        "a = {'key1' : 'value1', 'key2' : 'value2'} # key1,key2는 초기값으로 지정해 선언\n",
        "a"
      ],
      "execution_count": null,
      "outputs": [
        {
          "output_type": "execute_result",
          "data": {
            "text/plain": [
              "{'key1': 'value1', 'key2': 'value2'}"
            ]
          },
          "metadata": {
            "tags": []
          },
          "execution_count": 82
        }
      ]
    },
    {
      "cell_type": "code",
      "metadata": {
        "colab": {
          "base_uri": "https://localhost:8080/"
        },
        "id": "tGKR5x5buqxH",
        "outputId": "239fbcc6-7476-4bf7-8551-241084f35b4c"
      },
      "source": [
        "a['key3'] = 'value3' # 나중에 별도로 지정도 가능함\n",
        "a"
      ],
      "execution_count": null,
      "outputs": [
        {
          "output_type": "execute_result",
          "data": {
            "text/plain": [
              "{'key1': 'value1', 'key2': 'value2', 'key3': 'value3'}"
            ]
          },
          "metadata": {
            "tags": []
          },
          "execution_count": 83
        }
      ]
    },
    {
      "cell_type": "code",
      "metadata": {
        "colab": {
          "base_uri": "https://localhost:8080/",
          "height": 36
        },
        "id": "-qPEPD3ouq1q",
        "outputId": "54102fb3-7fa8-4847-8511-10a4c343914f"
      },
      "source": [
        "a['key1']"
      ],
      "execution_count": null,
      "outputs": [
        {
          "output_type": "execute_result",
          "data": {
            "application/vnd.google.colaboratory.intrinsic+json": {
              "type": "string"
            },
            "text/plain": [
              "'value1'"
            ]
          },
          "metadata": {
            "tags": []
          },
          "execution_count": 84
        }
      ]
    },
    {
      "cell_type": "code",
      "metadata": {
        "colab": {
          "base_uri": "https://localhost:8080/",
          "height": 176
        },
        "id": "1d5yPdsMuq7T",
        "outputId": "f1c934eb-51b3-4fc1-89e9-fce7803333d1"
      },
      "source": [
        "a['key4']"
      ],
      "execution_count": null,
      "outputs": [
        {
          "output_type": "error",
          "ename": "KeyError",
          "evalue": "ignored",
          "traceback": [
            "\u001b[0;31m---------------------------------------------------------------------------\u001b[0m",
            "\u001b[0;31mKeyError\u001b[0m                                  Traceback (most recent call last)",
            "\u001b[0;32m<ipython-input-87-91c1e5997b2c>\u001b[0m in \u001b[0;36m<module>\u001b[0;34m()\u001b[0m\n\u001b[0;32m----> 1\u001b[0;31m \u001b[0ma\u001b[0m\u001b[0;34m[\u001b[0m\u001b[0;34m'key4'\u001b[0m\u001b[0;34m]\u001b[0m\u001b[0;34m\u001b[0m\u001b[0;34m\u001b[0m\u001b[0m\n\u001b[0m",
            "\u001b[0;31mKeyError\u001b[0m: 'key4'"
          ]
        }
      ]
    },
    {
      "cell_type": "code",
      "metadata": {
        "colab": {
          "base_uri": "https://localhost:8080/"
        },
        "id": "h_Y4ncmZuq-I",
        "outputId": "0bf25e70-ef7b-4740-a6d3-b6b19f173bf3"
      },
      "source": [
        "try:\n",
        "  print(a['key4'])\n",
        "except KeyError:\n",
        "  print('존재하지 않는 키')"
      ],
      "execution_count": null,
      "outputs": [
        {
          "output_type": "stream",
          "text": [
            "존재하지 않는 키\n"
          ],
          "name": "stdout"
        }
      ]
    },
    {
      "cell_type": "code",
      "metadata": {
        "colab": {
          "base_uri": "https://localhost:8080/"
        },
        "id": "qIqWAfoGurCt",
        "outputId": "6a90ae19-a82d-4f1e-c286-d0a2621d9ca0"
      },
      "source": [
        "'key4' in a"
      ],
      "execution_count": null,
      "outputs": [
        {
          "output_type": "execute_result",
          "data": {
            "text/plain": [
              "False"
            ]
          },
          "metadata": {
            "tags": []
          },
          "execution_count": 88
        }
      ]
    },
    {
      "cell_type": "code",
      "metadata": {
        "colab": {
          "base_uri": "https://localhost:8080/"
        },
        "id": "QG5-I8Y2urYk",
        "outputId": "9048bc3e-9799-4027-fbf7-00f689dfa47d"
      },
      "source": [
        "if 'key4' in a:\n",
        "  print('존재하는 키')\n",
        "else:\n",
        "  print('존재하지 않는 키')"
      ],
      "execution_count": null,
      "outputs": [
        {
          "output_type": "stream",
          "text": [
            "존재하지 않는 키\n"
          ],
          "name": "stdout"
        }
      ]
    },
    {
      "cell_type": "code",
      "metadata": {
        "colab": {
          "base_uri": "https://localhost:8080/"
        },
        "id": "WciAXI1fysqG",
        "outputId": "5a380624-54cb-4110-f2da-d1ddaa28fc50"
      },
      "source": [
        "del a['key1']\n",
        "a"
      ],
      "execution_count": null,
      "outputs": [
        {
          "output_type": "execute_result",
          "data": {
            "text/plain": [
              "{'key2': 'value2', 'key3': 'value3'}"
            ]
          },
          "metadata": {
            "tags": []
          },
          "execution_count": 91
        }
      ]
    },
    {
      "cell_type": "code",
      "metadata": {
        "id": "RgMnoW8g1typ"
      },
      "source": [
        "import collections # collections라는 모듈을 불러온 것 ~ 추후에 객체지향할때,, 배우자고 ㅋㅋ"
      ],
      "execution_count": null,
      "outputs": []
    },
    {
      "cell_type": "code",
      "metadata": {
        "colab": {
          "base_uri": "https://localhost:8080/"
        },
        "id": "yeiqSvPDysyd",
        "outputId": "e14bbafb-fecb-42c7-e653-9604121fefdf"
      },
      "source": [
        "a = collections.defaultdict(int)\n",
        "a['A'] = 5\n",
        "a['B'] = 4\n",
        "a"
      ],
      "execution_count": null,
      "outputs": [
        {
          "output_type": "execute_result",
          "data": {
            "text/plain": [
              "defaultdict(int, {'A': 5, 'B': 4})"
            ]
          },
          "metadata": {
            "tags": []
          },
          "execution_count": 95
        }
      ]
    },
    {
      "cell_type": "code",
      "metadata": {
        "colab": {
          "base_uri": "https://localhost:8080/"
        },
        "id": "4dkU3LU-ys69",
        "outputId": "72e16a4d-ef3a-4644-d8ec-071942368b70"
      },
      "source": [
        "a['C'] += 1 # C는 원래 없는데, (디폴트가 0인 c에 1을 추가할게!)\n",
        "a"
      ],
      "execution_count": null,
      "outputs": [
        {
          "output_type": "execute_result",
          "data": {
            "text/plain": [
              "defaultdict(int, {'A': 5, 'B': 4, 'C': 1})"
            ]
          },
          "metadata": {
            "tags": []
          },
          "execution_count": 96
        }
      ]
    },
    {
      "cell_type": "code",
      "metadata": {
        "colab": {
          "base_uri": "https://localhost:8080/"
        },
        "id": "AmpP7KFMytCY",
        "outputId": "5a6b097f-c26f-44a0-802f-1454f2d76213"
      },
      "source": [
        "a = [1,2,3,4,5,5,5,6,6]\n",
        "b = collections.Counter(a)\n",
        "b # 키에는 아이템의 값이, 값에는 해당 아이템의 개수가 들어감"
      ],
      "execution_count": null,
      "outputs": [
        {
          "output_type": "execute_result",
          "data": {
            "text/plain": [
              "Counter({1: 1, 2: 1, 3: 1, 4: 1, 5: 3, 6: 2})"
            ]
          },
          "metadata": {
            "tags": []
          },
          "execution_count": 97
        }
      ]
    },
    {
      "cell_type": "code",
      "metadata": {
        "colab": {
          "base_uri": "https://localhost:8080/"
        },
        "id": "j80FRAY-ytH2",
        "outputId": "e6d2a53d-473b-4568-e3f6-9de8ccea46e1"
      },
      "source": [
        "type(b)"
      ],
      "execution_count": null,
      "outputs": [
        {
          "output_type": "execute_result",
          "data": {
            "text/plain": [
              "collections.Counter"
            ]
          },
          "metadata": {
            "tags": []
          },
          "execution_count": 98
        }
      ]
    },
    {
      "cell_type": "code",
      "metadata": {
        "colab": {
          "base_uri": "https://localhost:8080/"
        },
        "id": "GcJAhoZKytbJ",
        "outputId": "1ff4fddb-598f-4c35-ac1e-10467907f786"
      },
      "source": [
        "b.most_common(2) #가장 빈도가 높은 요소 2개 추출"
      ],
      "execution_count": null,
      "outputs": [
        {
          "output_type": "execute_result",
          "data": {
            "text/plain": [
              "[(5, 3), (6, 2)]"
            ]
          },
          "metadata": {
            "tags": []
          },
          "execution_count": 100
        }
      ]
    },
    {
      "cell_type": "code",
      "metadata": {
        "colab": {
          "base_uri": "https://localhost:8080/"
        },
        "id": "DYyisceZytez",
        "outputId": "51d5e0d3-1423-4273-fe7e-93607dce2bf5"
      },
      "source": [
        "collections.OrderedDict({'banana':3,'apple':4,'pear':1,'orange':2})"
      ],
      "execution_count": null,
      "outputs": [
        {
          "output_type": "execute_result",
          "data": {
            "text/plain": [
              "OrderedDict([('banana', 3), ('apple', 4), ('pear', 1), ('orange', 2)])"
            ]
          },
          "metadata": {
            "tags": []
          },
          "execution_count": 103
        }
      ]
    },
    {
      "cell_type": "markdown",
      "metadata": {
        "id": "sGRR0v8AsgBa"
      },
      "source": [
        "6장 문자열 조작"
      ]
    },
    {
      "cell_type": "markdown",
      "metadata": {
        "id": "-j_DbiVFsu27"
      },
      "source": [
        "1. 리스트로 변환"
      ]
    },
    {
      "cell_type": "code",
      "metadata": {
        "id": "W0hnw1qEyti7"
      },
      "source": [
        "def isPalindrome(self, s: str) -> bool:\n",
        "    strs = []\n",
        "\n",
        "    #전처리\n",
        "    for char in s:\n",
        "        if char.isalnum():   # 영문자, 숫자 여부 판별 # 해당하는 문자만 추가함\n",
        "            strs.append(char.lower())  # 모두 소문자로 변환\n",
        "    \n",
        "\n",
        "    #펠린드롬 여부 판별:        \n",
        "    while len(strs) > 1:   # 리스트의 모든 원소 비교\n",
        "        if strs.pop(0) != strs.pop():  # pop() 함수는 인덱스 지정이 가능하여 이처럼 맨앞과 맨뒤를 비교\n",
        "            return False  # 값이 서로 다르면 팰린드롬이 아니기 때문에 False 리턴\n",
        "    return True  # 모든 값이 같으면 팰린드롬으로 판단하여 True 리턴"
      ],
      "execution_count": null,
      "outputs": []
    },
    {
      "cell_type": "markdown",
      "metadata": {
        "id": "LQSIG26Dswzy"
      },
      "source": [
        "2. 데크 자료형을 이용한 최적화"
      ]
    },
    {
      "cell_type": "code",
      "metadata": {
        "id": "Y8WGAZyatK8r"
      },
      "source": [
        "import collections"
      ],
      "execution_count": null,
      "outputs": []
    },
    {
      "cell_type": "code",
      "metadata": {
        "id": "4gkP3_NAs_Ja"
      },
      "source": [
        "def isPalindrome(self, s: str) -> bool:\n",
        "\t# 데크 자료형으로 선언\n",
        "    strs: Deque = collections.deque()\n",
        "    \n",
        "    for char in s:\n",
        "    \tif char.isalnum():\n",
        "        \tstrs.append(char.lower())\n",
        "            \n",
        "    while len(strs) > 1:\n",
        "    \tif strs.popleft() != strs.pop():\n",
        "        \treturn False\n",
        "   \n",
        "    return True"
      ],
      "execution_count": null,
      "outputs": []
    },
    {
      "cell_type": "markdown",
      "metadata": {
        "id": "knRyCwdUtFgP"
      },
      "source": [
        "3. 슬라이싱 사용"
      ]
    },
    {
      "cell_type": "code",
      "metadata": {
        "id": "DooZ9mhltQ7q"
      },
      "source": [
        "def isPalindrome(self, s: str) -> bool:\n",
        "    s = s.lower()\n",
        "    s = re.sub('[^a-z0-9]', '', s)\n",
        "    \n",
        "    return s == s[::-1]"
      ],
      "execution_count": 1,
      "outputs": []
    },
    {
      "cell_type": "code",
      "metadata": {
        "colab": {
          "base_uri": "https://localhost:8080/",
          "height": 195
        },
        "id": "5Hbs-LpitQ5Y",
        "outputId": "6d059490-0e23-4d83-d6bd-427fa9827d95"
      },
      "source": [
        "a = isPalindrome(a, \"A man, a plan, a canal: Panama\")\n",
        "a"
      ],
      "execution_count": 2,
      "outputs": [
        {
          "output_type": "error",
          "ename": "NameError",
          "evalue": "ignored",
          "traceback": [
            "\u001b[0;31m---------------------------------------------------------------------------\u001b[0m",
            "\u001b[0;31mNameError\u001b[0m                                 Traceback (most recent call last)",
            "\u001b[0;32m<ipython-input-2-be22a7319bc3>\u001b[0m in \u001b[0;36m<module>\u001b[0;34m()\u001b[0m\n\u001b[0;32m----> 1\u001b[0;31m \u001b[0ma\u001b[0m \u001b[0;34m=\u001b[0m \u001b[0misPalindrome\u001b[0m\u001b[0;34m(\u001b[0m\u001b[0ma\u001b[0m\u001b[0;34m,\u001b[0m \u001b[0;34m\"A man, a plan, a canal: Panama\"\u001b[0m\u001b[0;34m)\u001b[0m\u001b[0;34m\u001b[0m\u001b[0;34m\u001b[0m\u001b[0m\n\u001b[0m\u001b[1;32m      2\u001b[0m \u001b[0ma\u001b[0m\u001b[0;34m\u001b[0m\u001b[0;34m\u001b[0m\u001b[0m\n",
            "\u001b[0;31mNameError\u001b[0m: name 'a' is not defined"
          ]
        }
      ]
    },
    {
      "cell_type": "code",
      "metadata": {
        "colab": {
          "base_uri": "https://localhost:8080/",
          "height": 213
        },
        "id": "Zp-5fmDatQ3F",
        "outputId": "d2418013-0791-4ecc-cc5d-7e8e5c5c972e"
      },
      "source": [
        "b = isPalindrome(b, \"race a car\")\n",
        "b"
      ],
      "execution_count": 3,
      "outputs": [
        {
          "output_type": "error",
          "ename": "NameError",
          "evalue": "ignored",
          "traceback": [
            "\u001b[0;31m---------------------------------------------------------------------------\u001b[0m",
            "\u001b[0;31mNameError\u001b[0m                                 Traceback (most recent call last)",
            "\u001b[0;32m<ipython-input-3-a9382d05d68f>\u001b[0m in \u001b[0;36m<module>\u001b[0;34m()\u001b[0m\n\u001b[1;32m      1\u001b[0m \u001b[0;34m\u001b[0m\u001b[0m\n\u001b[0;32m----> 2\u001b[0;31m \u001b[0mb\u001b[0m \u001b[0;34m=\u001b[0m \u001b[0misPalindrome\u001b[0m\u001b[0;34m(\u001b[0m\u001b[0mb\u001b[0m\u001b[0;34m,\u001b[0m \u001b[0;34m\"race a car\"\u001b[0m\u001b[0;34m)\u001b[0m\u001b[0;34m\u001b[0m\u001b[0;34m\u001b[0m\u001b[0m\n\u001b[0m\u001b[1;32m      3\u001b[0m \u001b[0mb\u001b[0m\u001b[0;34m\u001b[0m\u001b[0;34m\u001b[0m\u001b[0m\n",
            "\u001b[0;31mNameError\u001b[0m: name 'b' is not defined"
          ]
        }
      ]
    },
    {
      "cell_type": "markdown",
      "metadata": {
        "id": "BV2YaLcotueb"
      },
      "source": [
        "문자열 뒤집기"
      ]
    },
    {
      "cell_type": "code",
      "metadata": {
        "id": "qwvIEDzYtxPC"
      },
      "source": [
        "1. 투 포인터를 이용한 스왑왑"
      ],
      "execution_count": null,
      "outputs": []
    },
    {
      "cell_type": "code",
      "metadata": {
        "id": "LpZvPiNttQzy"
      },
      "source": [
        "from typing import List"
      ],
      "execution_count": null,
      "outputs": []
    },
    {
      "cell_type": "code",
      "metadata": {
        "id": "BjcmeTG4tQxB"
      },
      "source": [
        "def reverseString(self, s:List[str]) -> None:\n",
        "    left, right = 0, len(s) - 1\n",
        "    while left < right:\n",
        "        s[left], s[right] = s[right], s[left]\n",
        "        left += 1\n",
        "        right -= 1"
      ],
      "execution_count": null,
      "outputs": []
    },
    {
      "cell_type": "markdown",
      "metadata": {
        "id": "M16xlpZEt2Ui"
      },
      "source": [
        "2. 파이썬다운 방식"
      ]
    },
    {
      "cell_type": "code",
      "metadata": {
        "id": "WhuIDZXItQta"
      },
      "source": [
        "def reverseString(self, s:List[str]) -> None:\n",
        "    s.reverse()"
      ],
      "execution_count": null,
      "outputs": []
    },
    {
      "cell_type": "markdown",
      "metadata": {
        "id": "zzjjKU-Rt5fU"
      },
      "source": [
        "로그 파일 재정렬\n",
        "1. 람다와 +연산자를 이용용"
      ]
    },
    {
      "cell_type": "code",
      "metadata": {
        "id": "OJ4HUaRatQp0"
      },
      "source": [
        "def reorderLogFiles(self, logs: List[str]) -> List[str]:\n",
        "    letters, digits = [], []\n",
        "    for log in logs:\n",
        "        if log.split()[1].isdigit():\n",
        "            digits.append(log)\n",
        "        else:\n",
        "            letters.append(log)\n",
        "            \n",
        "    # 2개의 키를 람다 표현식으로 정렬\n",
        "    letters.sort(key = lambda x: (x.split()[1:], x.split()[0]))\n",
        "    return letters + digits"
      ],
      "execution_count": null,
      "outputs": []
    },
    {
      "cell_type": "markdown",
      "metadata": {
        "id": "en39BnGOuZhn"
      },
      "source": [
        "**가장 흔한 단어**\n",
        "금지된 단어를 제외하고 가장 흔하게 등장하는 단어를 출력하라.\n",
        "대소문자 구분을 하지 않으며, 구두점(마침표, 쉼표) 또한 무시한다."
      ]
    },
    {
      "cell_type": "markdown",
      "metadata": {
        "id": "n-tmk35cuKhE"
      },
      "source": [
        "1. 리스트 컴프리헨션, counter 객체 사용"
      ]
    },
    {
      "cell_type": "code",
      "metadata": {
        "id": "c7OFF-cpuJMv"
      },
      "source": [
        "def mostCommonWord(self, paragraph: str, banned:List[str]) -> str:\n",
        "    words = [word for word in re.sub(r'[^/w]', ' ', paragraph).lower().split()\n",
        "                                     if word not in banned]\n",
        "    counts = collections.Counter(words)\n",
        "    # 가장 흔하게 등장하는 단어의 첫 번째 인덱스 리턴\n",
        "    return counts.most_common(1)[0][0]"
      ],
      "execution_count": null,
      "outputs": []
    },
    {
      "cell_type": "markdown",
      "metadata": {
        "id": "JiaUmi4WvcNu"
      },
      "source": [
        "**그룹 에너그램**"
      ]
    },
    {
      "cell_type": "markdown",
      "metadata": {
        "id": "T0eM9xR9vgZ7"
      },
      "source": [
        "문자열배열을 받아 애너그램 단위로 그룹핑하라"
      ]
    },
    {
      "cell_type": "markdown",
      "metadata": {
        "id": "-drBzdtvvkiK"
      },
      "source": [
        "1. 정렬하여 딕셔너리에 추가가"
      ]
    },
    {
      "cell_type": "code",
      "metadata": {
        "id": "krSp7aquvf_i"
      },
      "source": [
        "def groupAnagrams(self, strs:List[str]) -> List[List[str]]:\n",
        "    anagrams = collections.defaultdict(list)\n",
        "    \n",
        "    for word in strs:\n",
        "        # 정렬하여 딕셔너리에 추가\n",
        "        anagrams[''.join(sorted(word))].append(word)\n",
        "    return anagrams.values()"
      ],
      "execution_count": null,
      "outputs": []
    },
    {
      "cell_type": "markdown",
      "metadata": {
        "id": "F5UeG62zvum8"
      },
      "source": [
        "여러가지 정렬방법"
      ]
    },
    {
      "cell_type": "code",
      "metadata": {
        "colab": {
          "base_uri": "https://localhost:8080/"
        },
        "id": "_g6Xw_uFvwFs",
        "outputId": "a479b1ad-516b-4ae8-c64f-76abdc819e1e"
      },
      "source": [
        "a = [2, 5, 1, 9, 7]\n",
        "sorted(a)"
      ],
      "execution_count": 4,
      "outputs": [
        {
          "output_type": "execute_result",
          "data": {
            "text/plain": [
              "[1, 2, 5, 7, 9]"
            ]
          },
          "metadata": {
            "tags": []
          },
          "execution_count": 4
        }
      ]
    },
    {
      "cell_type": "code",
      "metadata": {
        "colab": {
          "base_uri": "https://localhost:8080/"
        },
        "id": "jQS3qmyFvwYg",
        "outputId": "76250b45-a988-4fb1-aa48-7c633a976672"
      },
      "source": [
        "b = 'zbdaf'\n",
        "sorted(b)"
      ],
      "execution_count": 5,
      "outputs": [
        {
          "output_type": "execute_result",
          "data": {
            "text/plain": [
              "['a', 'b', 'd', 'f', 'z']"
            ]
          },
          "metadata": {
            "tags": []
          },
          "execution_count": 5
        }
      ]
    },
    {
      "cell_type": "code",
      "metadata": {
        "id": "P9Jtlm-Rvwuu"
      },
      "source": [
        "b = 'zbdaf'\n",
        "\"\".join(sorted(b))"
      ],
      "execution_count": null,
      "outputs": []
    },
    {
      "cell_type": "code",
      "metadata": {
        "colab": {
          "base_uri": "https://localhost:8080/"
        },
        "id": "PeXE9JC5vw6Z",
        "outputId": "31006d14-1257-4867-ff19-32cef02823a2"
      },
      "source": [
        "c = ['ccc', 'aaaa', 'd', 'bb']\n",
        "sorted(c, key = len)"
      ],
      "execution_count": 7,
      "outputs": [
        {
          "output_type": "execute_result",
          "data": {
            "text/plain": [
              "['d', 'bb', 'ccc', 'aaaa']"
            ]
          },
          "metadata": {
            "tags": []
          },
          "execution_count": 7
        }
      ]
    },
    {
      "cell_type": "code",
      "metadata": {
        "colab": {
          "base_uri": "https://localhost:8080/"
        },
        "id": "L3MblfIfvw9c",
        "outputId": "fccebdc7-5567-4a5c-e424-4367cb2ea258"
      },
      "source": [
        "a = ['cde', 'cfc', 'abc']\n",
        "\n",
        "def fn(s):\n",
        "    return s[0], s[-1]\n",
        "\n",
        "print(sorted(a, key = fn))"
      ],
      "execution_count": 8,
      "outputs": [
        {
          "output_type": "stream",
          "text": [
            "['abc', 'cfc', 'cde']\n"
          ],
          "name": "stdout"
        }
      ]
    },
    {
      "cell_type": "code",
      "metadata": {
        "colab": {
          "base_uri": "https://localhost:8080/"
        },
        "id": "0TPi7P_nvxAX",
        "outputId": "470d2698-22ad-438b-a4b8-de1389c1e98e"
      },
      "source": [
        "a = ['cde', 'cfc', 'abc']\n",
        "sorted(a, key = lambda s: (s[0], s[-1]))"
      ],
      "execution_count": 9,
      "outputs": [
        {
          "output_type": "execute_result",
          "data": {
            "text/plain": [
              "['abc', 'cfc', 'cde']"
            ]
          },
          "metadata": {
            "tags": []
          },
          "execution_count": 9
        }
      ]
    },
    {
      "cell_type": "markdown",
      "metadata": {
        "id": "IFvTdSMSv8c0"
      },
      "source": [
        "6. 가장 긴 팰린드롬 부분 문자열"
      ]
    },
    {
      "cell_type": "code",
      "metadata": {
        "id": "gthe7YJRvxDA"
      },
      "source": [
        "def longestPalindrome(self, s: str) -> str:\n",
        "    def expand(left: int, right: int) -> str:\n",
        "        while left >= 0 and right <= len(s) and s[left] == s[right - 1]:\n",
        "            left -= 1\n",
        "            right += 1\n",
        "        return s[left + 1:right -1]\n",
        "    \n",
        "    if len(s) < 2 or s == s[::-1]:\n",
        "        return s\n",
        "    result = ''\n",
        "    \n",
        "    for i in range(len(s) - 1):\n",
        "        result = max(result,\n",
        "                      expand(i, i + 1),\n",
        "                      expand(i, i + 2),\n",
        "                      key = len)\n",
        "    return result"
      ],
      "execution_count": null,
      "outputs": []
    },
    {
      "cell_type": "markdown",
      "metadata": {
        "id": "LzXVE7CjwB1u"
      },
      "source": [
        "7. 두 수의 합"
      ]
    },
    {
      "cell_type": "markdown",
      "metadata": {
        "id": "ZqybMEbJwD1W"
      },
      "source": [
        "덧셈하여 타겟을 만들 수 있는 배열의 두 숫자 인덱스를 리턴하라"
      ]
    },
    {
      "cell_type": "markdown",
      "metadata": {
        "id": "715z5WslwH-b"
      },
      "source": [
        "1. 브루트 포스로 계산\n",
        ": 배열을 2번 반복하면서 모든 조합을 더해서 일일이 확인해보는 무차별 대입방식식"
      ]
    },
    {
      "cell_type": "code",
      "metadata": {
        "id": "XSLV7CdvtQlk"
      },
      "source": [
        "def twoSum(self, nums: List[int], target: int) -> List[int]:\n",
        "    for i in range(len(nums)):\n",
        "        for j in range(i + 1, len(nums)):\n",
        "            if nums[i] + nums[j] == target:\n",
        "                return [ i, j]"
      ],
      "execution_count": null,
      "outputs": []
    },
    {
      "cell_type": "markdown",
      "metadata": {
        "id": "3znOJtIuwTY1"
      },
      "source": [
        "2. in을 이용한 탐색색"
      ]
    },
    {
      "cell_type": "code",
      "metadata": {
        "id": "LtNeGafHwSDJ"
      },
      "source": [
        "def twoSum(self, nums: List[int], target: int) -> List[int]:\n",
        "    for i, n in enumerate(nums):\n",
        "        complement = target - n\n",
        "        \n",
        "        if complement in nums[i + 1:]:\n",
        "            return nums.index(n), nums[i + 1:].index(complement) + (i + 1)"
      ],
      "execution_count": null,
      "outputs": []
    },
    {
      "cell_type": "markdown",
      "metadata": {
        "id": "CYOfmdyMwW1r"
      },
      "source": [
        "3. 첫번째 수를 뺀 결과키 조회"
      ]
    },
    {
      "cell_type": "code",
      "metadata": {
        "id": "rUEbVbF2wSKF"
      },
      "source": [
        "def twoSum(self, nums: List[int], target: int) -> List[int]:\n",
        "    nums_map = {}\n",
        "    \n",
        "    for i, num in enumerate(nums):\n",
        "        num_map[num] = i\n",
        "        \n",
        "    for i, num in enumerate(nums):\n",
        "        if target - num in nums_map and i != nums_map[target - num]:\n",
        "            return nums.index(num), nums_map[target - num]"
      ],
      "execution_count": null,
      "outputs": []
    },
    {
      "cell_type": "markdown",
      "metadata": {
        "id": "lcpQMVW7wZco"
      },
      "source": [
        "4. 조회구조 개선선"
      ]
    },
    {
      "cell_type": "code",
      "metadata": {
        "id": "vp558WCSwSMS"
      },
      "source": [
        "def twoSum(self, nums: List[int], target: int) -> List[int]:\n",
        "    nums_map = {}\n",
        "    \n",
        "    # 하나의 for 문으로 통합\n",
        "    for i, num in enumerate(nums):\n",
        "        if target - num in nums_map:\n",
        "            return [nums_map[target - num], i]\n",
        "        nums_map[num] = i"
      ],
      "execution_count": null,
      "outputs": []
    },
    {
      "cell_type": "markdown",
      "metadata": {
        "id": "u1cY7tWpwd0Q"
      },
      "source": [
        "5. 투포인터 이용용"
      ]
    },
    {
      "cell_type": "code",
      "metadata": {
        "id": "TK-UEZurwSQf"
      },
      "source": [
        "def twoSum(self, nums: List[int], target: int) -> List[int]:\n",
        "    left, right = 0, len(nums) - 1\n",
        "    while not left == right:\n",
        "        # 합이 타겟보다 크면 오른쪽 포인터를 왼쪽으로\n",
        "        if nums[left] + nums[right] < target:\n",
        "            left += 1\n",
        "        # 합이 타겟보다 작으면 왼쪽 포인터를 오른쪽으로\n",
        "        elif nums[left] + nums[right] > target:\n",
        "            right -= 1\n",
        "        else:\n",
        "            return left, right"
      ],
      "execution_count": null,
      "outputs": []
    },
    {
      "cell_type": "markdown",
      "metadata": {
        "id": "5jSu60sawg46"
      },
      "source": [
        "6. 고 구현현"
      ]
    },
    {
      "cell_type": "code",
      "metadata": {
        "id": "ZslZaemcwgof"
      },
      "source": [
        "func twoSum(nums []int, target int) []int{\n",
        "    numsMap := make(map[int]int)\n",
        "    \n",
        "    for i, num := range nums{\n",
        "        numsMap[num] = i\n",
        "    }\n",
        "    for i, num := range nums{\n",
        "        if j, ok := numsMap[target - num]; ok && i != j{\n",
        "            return []int{i, j}\n",
        "        }\n",
        "    }\n",
        "\n",
        "    return[]int{}\n",
        "}"
      ],
      "execution_count": null,
      "outputs": []
    },
    {
      "cell_type": "markdown",
      "metadata": {
        "id": "GGel2ftuwj65"
      },
      "source": [
        "8. 빗물 트래핑"
      ]
    },
    {
      "cell_type": "markdown",
      "metadata": {
        "id": "ogep4haPwls7"
      },
      "source": [
        "높이를 입력받아 비온 후 얼마나 많은 물이 쌓일 수 있는지 계산하라"
      ]
    },
    {
      "cell_type": "markdown",
      "metadata": {
        "id": "QhQ8FTOvwpa5"
      },
      "source": [
        "1) 투 포인터를 최대로 이동 포인터를 최대로 이동"
      ]
    },
    {
      "cell_type": "code",
      "metadata": {
        "id": "NYHa2kNnwSbr"
      },
      "source": [
        "def trap(self, height: List[int]) -> int:\n",
        "    if not height:\n",
        "        return 0\n",
        "    volume = 0\n",
        "    left, right = 0, len(height) - 1\n",
        "    left_max, right_max = height[left], height[right]\n",
        "    \n",
        "    while left < right:\n",
        "        left_max, right_max = max(height[left], left_max), max(height[right], right_max)\n",
        "            \n",
        "        if left_max <= right_max:\n",
        "            volume += left_max - height[left]\n",
        "            left += 1\n",
        "        else:\n",
        "            volume += right_max - height[right]\n",
        "            right -= 1\n",
        "    return volume"
      ],
      "execution_count": null,
      "outputs": []
    },
    {
      "cell_type": "markdown",
      "metadata": {
        "id": "FN_q7pPw41pS"
      },
      "source": [
        "2. 스택쌓기기"
      ]
    },
    {
      "cell_type": "code",
      "metadata": {
        "id": "GOH3Chq5wSfL"
      },
      "source": [
        "def trap(self, height: List[int]) -> int:\n",
        "    stack = []\n",
        "    volume = 0\n",
        "    \n",
        "    for i in range(len(height)):\n",
        "        # 변곡점을 만나는 경우\n",
        "        while stack and height[i] > height[stack[-1]]:\n",
        "            # 스택에서 꺼낸다\n",
        "            top = stack.pop()\n",
        "            \n",
        "            if not len(stack):\n",
        "                break\n",
        "                \n",
        "            # 이전과의 차이만큼 물 높이 처리\n",
        "            distace = i - stack[-1] - 1\n",
        "            waters = min(height[i], height[stack[-1]]) - height[top]\n",
        "            \n",
        "            volume += distance * waters\n",
        "            \n",
        "        stack.append(i)\n",
        "    return volume"
      ],
      "execution_count": null,
      "outputs": []
    },
    {
      "cell_type": "markdown",
      "metadata": {
        "id": "nN1KCQDi47t9"
      },
      "source": [
        "9. 세 수의 합"
      ]
    },
    {
      "cell_type": "markdown",
      "metadata": {
        "id": "gzqXG2jb4-BD"
      },
      "source": [
        "배열을 입력받아 합으로 0을 만들 수 있는 3개의 엘리먼트를 출력하라"
      ]
    },
    {
      "cell_type": "markdown",
      "metadata": {
        "id": "Nb7duSRU5DrW"
      },
      "source": [
        "1) 브루트 포스로 계산산"
      ]
    },
    {
      "cell_type": "code",
      "metadata": {
        "id": "ayOMkkVx5G7I"
      },
      "source": [
        "def threeSum(self, nums: List[int]) -> List[List[int]]:\n",
        "    results = []\n",
        "    nums.sort()\n",
        "    \n",
        "    # 브루스 포트 n^3 반복\n",
        "    for i in range(len(nums) - 2):\n",
        "        # 중복된 값 건너뛰기\n",
        "        if i > 0 and nums[i] == nums[ i - 1]:\n",
        "            continue\n",
        "        for j in range( i + 1, len(nums) - 1):\n",
        "            if j > i + 1 and nums[j] == nums[j-1]:\n",
        "                continue\n",
        "            for k in range( j + 1, len(nums)):\n",
        "                if k > j + 1 and nums[k] == nums[k-1]:\n",
        "                    continue\n",
        "                if nums[i] + nums[j] + nums[k] == 0:\n",
        "                    results.append((nums[i], nums[j], nums[k]))\n",
        "                    \n",
        "    return results"
      ],
      "execution_count": null,
      "outputs": []
    },
    {
      "cell_type": "markdown",
      "metadata": {
        "id": "RhGycRR65H5E"
      },
      "source": [
        "2) 투 포인터로 합 계산"
      ]
    },
    {
      "cell_type": "code",
      "metadata": {
        "id": "KQ2AZJN45Ke0"
      },
      "source": [
        "def threeSum(self, nums: List[int]) -> List[List[int]]:\n",
        "    results = []\n",
        "    nums.sort()\n",
        "    \n",
        "    for i in range(len(nums) - 2):\n",
        "        # 중복된 값 건너뛰기\n",
        "        if i > 0 and nums[i] == nums[i-1]:\n",
        "            continue\n",
        "            \n",
        "        # 간격을 좁혀가며 합 sum 계산\n",
        "        left, right = i + 1, len(nums) - 1\n",
        "        while left < right:\n",
        "            sum = nums[i] + nums[left] + nums[right]\n",
        "            if sum < 0:\n",
        "                left += 1\n",
        "            elif sum > 0:\n",
        "                right -= 1\n",
        "            else:\n",
        "                # sum = 0인 경우이므로 정답 및 스킵 처리\n",
        "                results.append((nums[i], nums[left], nums[right]))\n",
        "                \n",
        "                while left < right and nums[left] == nims [left + 1]:\n",
        "                    left += 1\n",
        "                while left < right and nums[right] == nims [right - 1]:\n",
        "                    right -= 1\n",
        "                left += 1\n",
        "                right -= 1\n",
        "    return results"
      ],
      "execution_count": null,
      "outputs": []
    },
    {
      "cell_type": "markdown",
      "metadata": {
        "id": "_SPbvVQw5MWT"
      },
      "source": [
        "10. 배열 파티션1"
      ]
    },
    {
      "cell_type": "markdown",
      "metadata": {
        "id": "iPoVbJTB5OT4"
      },
      "source": [
        "n개의 페어를 이용한 min(a, b)의 합으로 만들 수 있는 가장 큰 수를 출력하라"
      ]
    },
    {
      "cell_type": "markdown",
      "metadata": {
        "id": "NsiFsxf75TR-"
      },
      "source": [
        "1) 오름차순 풀이"
      ]
    },
    {
      "cell_type": "code",
      "metadata": {
        "id": "xM0eAeHc5bwc"
      },
      "source": [
        "def arrayPairSum(self, nums:List[int]) -> int:\n",
        "    sum = 0\n",
        "    pair = []\n",
        "    nums.sort()\n",
        "    \n",
        "    \n",
        "    for n in nums:\n",
        "        # 앞에서부터 오름차순으로 페어를 만들어서 합 계산\n",
        "        \n",
        "        pair.append(n)\n",
        "        if len(pair) == 2:\n",
        "            sum += min(pair)\n",
        "            pair = []\n",
        "            \n",
        "    return sum"
      ],
      "execution_count": null,
      "outputs": []
    },
    {
      "cell_type": "markdown",
      "metadata": {
        "id": "nFHI7kZj5Upv"
      },
      "source": [
        "2) 짝수번째 값 계산"
      ]
    },
    {
      "cell_type": "code",
      "metadata": {
        "id": "N1hs3GGX5cVo"
      },
      "source": [
        "def arrayPairSum(self, nums:List[int]) -> int:\n",
        "    sum = 0\n",
        "    nums.sort()\n",
        "    \n",
        "    \n",
        "    for i, n in enumerate(nums):\n",
        "        # 짝수 번째 값의 합 계산\n",
        "        if i % 2 == 0:\n",
        "            sum += n\n",
        "    return sum"
      ],
      "execution_count": null,
      "outputs": []
    },
    {
      "cell_type": "markdown",
      "metadata": {
        "id": "snS-2FSK5W3p"
      },
      "source": [
        "3) 파이썬다운 방식\n",
        "\n"
      ]
    },
    {
      "cell_type": "code",
      "metadata": {
        "id": "RaiFKJgh5fY9"
      },
      "source": [
        "def arrayPairSum(self, nums: List[int]) -> int:\n",
        "    return sum(sorted(nums)[::2])"
      ],
      "execution_count": null,
      "outputs": []
    },
    {
      "cell_type": "markdown",
      "metadata": {
        "id": "P9h8dkfU5nfS"
      },
      "source": [
        "11. 자신을 제외한 배열의 곱"
      ]
    },
    {
      "cell_type": "markdown",
      "metadata": {
        "id": "xOwzstxU5nVO"
      },
      "source": [
        "배열을 입력받아 output[i]가 자신을 제외한 나머지 요소의 곱셈 결과가 되도록 출력하라"
      ]
    },
    {
      "cell_type": "markdown",
      "metadata": {
        "id": "bnaHryhq5nNQ"
      },
      "source": [
        "1) 왼쪽 곱셈결과에 오른쪽 값을 차례대로 곱셈셈"
      ]
    },
    {
      "cell_type": "code",
      "metadata": {
        "id": "XPNYHW8V51IT"
      },
      "source": [
        "def productExceptSelf(self, nums: List[int]) -> List[int]:\n",
        "    out = []\n",
        "    p = 1\n",
        "    # 왼쪽 곱셈\n",
        "    for i in range(0, len(nums)):\n",
        "        out.append(p)\n",
        "        p = p * nums[i]\n",
        "    p = 1\n",
        "    # 왼쪽 곱셈 결과에 오른쪽 값을 차례대로 곱셈\n",
        "    for i in range(len(nums) -1, 0 - 1, -1):\n",
        "        out[i] = out[i] * p\n",
        "        p = p *nums[i]\n",
        "    return out"
      ],
      "execution_count": null,
      "outputs": []
    },
    {
      "cell_type": "markdown",
      "metadata": {
        "id": "S--6x95y52rE"
      },
      "source": [
        "12. 주식을 사고팔기 가장 좋은 시점"
      ]
    },
    {
      "cell_type": "markdown",
      "metadata": {
        "id": "FKO23w_Z52gN"
      },
      "source": [
        "한번의 거래로 낼 수 있는 최대 이익을 산출하라"
      ]
    },
    {
      "cell_type": "markdown",
      "metadata": {
        "id": "LOIHFEAY52V8"
      },
      "source": [
        "1) 브루트 포스로 계산"
      ]
    },
    {
      "cell_type": "code",
      "metadata": {
        "id": "ZQlgfjBB5-N3"
      },
      "source": [
        "def maxProfit(self, prices:List[int]) -> int:\n",
        "    max_price = 0\n",
        "    \n",
        "    for i, price in enumerate(prices):\n",
        "        for j in range(i, lenn(prices)):\n",
        "            max_price = max(prices[j] - price, max_price)\n",
        "            \n",
        "    return max_price"
      ],
      "execution_count": null,
      "outputs": []
    },
    {
      "cell_type": "markdown",
      "metadata": {
        "id": "MSPODD3952LZ"
      },
      "source": [
        "2) 지점과 현재 값과의 차이 계산"
      ]
    },
    {
      "cell_type": "code",
      "metadata": {
        "id": "Wjd-l3Wr5-kR"
      },
      "source": [
        "def maxProfit(self, prices:List[int]) -> int:\n",
        "    profit = 0\n",
        "    min_price = sys.maxsize\n",
        "    \n",
        "    # 최솟값과 최댓값을 계속 갱신\n",
        "    for price in prices:\n",
        "        min_price = min(min_price, price)\n",
        "        profit = max(profit, price - min_price)\n",
        "        \n",
        "    return profit"
      ],
      "execution_count": null,
      "outputs": []
    }
  ]
}